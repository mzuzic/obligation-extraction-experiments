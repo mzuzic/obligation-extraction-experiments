{
 "cells": [
  {
   "cell_type": "code",
   "execution_count": 2,
   "id": "8882ca74",
   "metadata": {},
   "outputs": [
    {
     "name": "stderr",
     "output_type": "stream",
     "text": [
      "/usr/local/lib/python3.6/site-packages/tensorflow/python/framework/dtypes.py:516: FutureWarning: Passing (type, 1) or '1type' as a synonym of type is deprecated; in a future version of numpy, it will be understood as (type, (1,)) / '(1,)type'.\n",
      "  _np_qint8 = np.dtype([(\"qint8\", np.int8, 1)])\n",
      "/usr/local/lib/python3.6/site-packages/tensorflow/python/framework/dtypes.py:517: FutureWarning: Passing (type, 1) or '1type' as a synonym of type is deprecated; in a future version of numpy, it will be understood as (type, (1,)) / '(1,)type'.\n",
      "  _np_quint8 = np.dtype([(\"quint8\", np.uint8, 1)])\n",
      "/usr/local/lib/python3.6/site-packages/tensorflow/python/framework/dtypes.py:518: FutureWarning: Passing (type, 1) or '1type' as a synonym of type is deprecated; in a future version of numpy, it will be understood as (type, (1,)) / '(1,)type'.\n",
      "  _np_qint16 = np.dtype([(\"qint16\", np.int16, 1)])\n",
      "/usr/local/lib/python3.6/site-packages/tensorflow/python/framework/dtypes.py:519: FutureWarning: Passing (type, 1) or '1type' as a synonym of type is deprecated; in a future version of numpy, it will be understood as (type, (1,)) / '(1,)type'.\n",
      "  _np_quint16 = np.dtype([(\"quint16\", np.uint16, 1)])\n",
      "/usr/local/lib/python3.6/site-packages/tensorflow/python/framework/dtypes.py:520: FutureWarning: Passing (type, 1) or '1type' as a synonym of type is deprecated; in a future version of numpy, it will be understood as (type, (1,)) / '(1,)type'.\n",
      "  _np_qint32 = np.dtype([(\"qint32\", np.int32, 1)])\n",
      "/usr/local/lib/python3.6/site-packages/tensorflow/python/framework/dtypes.py:525: FutureWarning: Passing (type, 1) or '1type' as a synonym of type is deprecated; in a future version of numpy, it will be understood as (type, (1,)) / '(1,)type'.\n",
      "  np_resource = np.dtype([(\"resource\", np.ubyte, 1)])\n",
      "/usr/local/lib/python3.6/site-packages/tensorboard/compat/tensorflow_stub/dtypes.py:541: FutureWarning: Passing (type, 1) or '1type' as a synonym of type is deprecated; in a future version of numpy, it will be understood as (type, (1,)) / '(1,)type'.\n",
      "  _np_qint8 = np.dtype([(\"qint8\", np.int8, 1)])\n",
      "/usr/local/lib/python3.6/site-packages/tensorboard/compat/tensorflow_stub/dtypes.py:542: FutureWarning: Passing (type, 1) or '1type' as a synonym of type is deprecated; in a future version of numpy, it will be understood as (type, (1,)) / '(1,)type'.\n",
      "  _np_quint8 = np.dtype([(\"quint8\", np.uint8, 1)])\n",
      "/usr/local/lib/python3.6/site-packages/tensorboard/compat/tensorflow_stub/dtypes.py:543: FutureWarning: Passing (type, 1) or '1type' as a synonym of type is deprecated; in a future version of numpy, it will be understood as (type, (1,)) / '(1,)type'.\n",
      "  _np_qint16 = np.dtype([(\"qint16\", np.int16, 1)])\n",
      "/usr/local/lib/python3.6/site-packages/tensorboard/compat/tensorflow_stub/dtypes.py:544: FutureWarning: Passing (type, 1) or '1type' as a synonym of type is deprecated; in a future version of numpy, it will be understood as (type, (1,)) / '(1,)type'.\n",
      "  _np_quint16 = np.dtype([(\"quint16\", np.uint16, 1)])\n",
      "/usr/local/lib/python3.6/site-packages/tensorboard/compat/tensorflow_stub/dtypes.py:545: FutureWarning: Passing (type, 1) or '1type' as a synonym of type is deprecated; in a future version of numpy, it will be understood as (type, (1,)) / '(1,)type'.\n",
      "  _np_qint32 = np.dtype([(\"qint32\", np.int32, 1)])\n",
      "/usr/local/lib/python3.6/site-packages/tensorboard/compat/tensorflow_stub/dtypes.py:550: FutureWarning: Passing (type, 1) or '1type' as a synonym of type is deprecated; in a future version of numpy, it will be understood as (type, (1,)) / '(1,)type'.\n",
      "  np_resource = np.dtype([(\"resource\", np.ubyte, 1)])\n"
     ]
    }
   ],
   "source": [
    "import pandas\n",
    "import spacy\n",
    "\n",
    "import pandas as pd\n",
    "\n",
    "from sklearn.model_selection import train_test_split, GridSearchCV\n",
    "from sklearn.metrics import classification_report\n",
    "from tqdm.auto import tqdm\n",
    "from spacy.tokens import DocBin"
   ]
  },
  {
   "cell_type": "code",
   "execution_count": null,
   "id": "40780559",
   "metadata": {},
   "outputs": [],
   "source": []
  },
  {
   "cell_type": "code",
   "execution_count": 3,
   "id": "51e9266a",
   "metadata": {},
   "outputs": [],
   "source": [
    "# !python3 -m spacy download en_core_web_lg"
   ]
  },
  {
   "cell_type": "code",
   "execution_count": 4,
   "id": "35626298",
   "metadata": {},
   "outputs": [],
   "source": [
    "def process_text(text):\n",
    "    text = re.sub('(\\.|,|\\?|!|-|;|\\*|\"|:|—|\\(|\\)|%|#|\\$|&|_|\\/|@)', '', text)\n",
    "    text = re.sub('\\d', '', text)\n",
    "    \n",
    "    # TODO add lowercase\n",
    "    return text\n",
    "\n",
    "def make_docs(data):\n",
    "    \"\"\"\n",
    "    this will take a list of texts and labels \n",
    "    and transform them in spacy documents\n",
    "    \n",
    "    data: list(tuple(text, label))\n",
    "    \n",
    "    returns: List(spacy.Doc.doc)\n",
    "    \"\"\"\n",
    "    \n",
    "    docs = []\n",
    "    # nlp.pipe([texts]) is way faster than running \n",
    "    # nlp(text) for each text\n",
    "    # as_tuples allows us to pass in a tuple, \n",
    "    # the first one is treated as text\n",
    "    # the second one will get returned as it is.\n",
    "    \n",
    "    for doc, label in tqdm(nlp.pipe(data, as_tuples=True), total = len(data)):\n",
    "        \n",
    "        doc.cats[\"obligation\"] = label\n",
    "        doc.cats[\"not_obligation\"] = not label\n",
    "        \n",
    "        \n",
    "        # put them into a nice list\n",
    "        docs.append(doc)\n",
    "    \n",
    "    return docs"
   ]
  },
  {
   "cell_type": "code",
   "execution_count": 5,
   "id": "15704d85",
   "metadata": {},
   "outputs": [],
   "source": [
    "nlp = spacy.load('en_core_web_lg')\n",
    "df = pd.read_csv('../data/obligation_extraction_df.csv')\n",
    "\n",
    "df_train, df_test = train_test_split(df, train_size=0.8, random_state=42)\n",
    "df_train, df_valid = train_test_split(df, train_size=0.9, random_state=42)"
   ]
  },
  {
   "cell_type": "code",
   "execution_count": 6,
   "id": "2157236f",
   "metadata": {},
   "outputs": [],
   "source": [
    "def transform_label(is_obligation):\n",
    "    return {'cats': {'OBLIGATION': is_obligation, 'NOT_OBLIGATION': not is_obligation}}"
   ]
  },
  {
   "cell_type": "code",
   "execution_count": 7,
   "id": "96adde0a",
   "metadata": {},
   "outputs": [],
   "source": [
    "train_data = [\n",
    "    (pair.sentence, pair.is_obligation) for pair in df_train.itertuples()\n",
    "]\n",
    "\n",
    "test_data = [\n",
    "    (pair.sentence, pair.is_obligation) for pair in df_valid.itertuples()\n",
    "]"
   ]
  },
  {
   "cell_type": "code",
   "execution_count": 8,
   "id": "39e9b3c7",
   "metadata": {},
   "outputs": [
    {
     "data": {
      "application/vnd.jupyter.widget-view+json": {
       "model_id": "a26210ab0b0a41869556d1df4008f650",
       "version_major": 2,
       "version_minor": 0
      },
      "text/plain": [
       "  0%|          | 0/13450 [00:00<?, ?it/s]"
      ]
     },
     "metadata": {},
     "output_type": "display_data"
    },
    {
     "data": {
      "application/vnd.jupyter.widget-view+json": {
       "model_id": "ab94ec8756294b3a8f292e20d97d5028",
       "version_major": 2,
       "version_minor": 0
      },
      "text/plain": [
       "  0%|          | 0/1495 [00:00<?, ?it/s]"
      ]
     },
     "metadata": {},
     "output_type": "display_data"
    }
   ],
   "source": [
    "train_docs = make_docs(train_data)\n",
    "doc_bin = DocBin(docs=train_docs)\n",
    "doc_bin.to_disk(\"../data/train.spacy\")\n",
    "\n",
    "test_docs = make_docs(test_data)\n",
    "doc_bin = DocBin(docs=test_docs)\n",
    "doc_bin.to_disk(\"../data/valid.spacy\")"
   ]
  },
  {
   "cell_type": "code",
   "execution_count": 9,
   "id": "dca610e0",
   "metadata": {},
   "outputs": [
    {
     "name": "stdout",
     "output_type": "stream",
     "text": [
      "/usr/local/lib/python3.6/site-packages/tensorflow/python/framework/dtypes.py:516: FutureWarning: Passing (type, 1) or '1type' as a synonym of type is deprecated; in a future version of numpy, it will be understood as (type, (1,)) / '(1,)type'.\n",
      "  _np_qint8 = np.dtype([(\"qint8\", np.int8, 1)])\n",
      "/usr/local/lib/python3.6/site-packages/tensorflow/python/framework/dtypes.py:517: FutureWarning: Passing (type, 1) or '1type' as a synonym of type is deprecated; in a future version of numpy, it will be understood as (type, (1,)) / '(1,)type'.\n",
      "  _np_quint8 = np.dtype([(\"quint8\", np.uint8, 1)])\n",
      "/usr/local/lib/python3.6/site-packages/tensorflow/python/framework/dtypes.py:518: FutureWarning: Passing (type, 1) or '1type' as a synonym of type is deprecated; in a future version of numpy, it will be understood as (type, (1,)) / '(1,)type'.\n",
      "  _np_qint16 = np.dtype([(\"qint16\", np.int16, 1)])\n",
      "/usr/local/lib/python3.6/site-packages/tensorflow/python/framework/dtypes.py:519: FutureWarning: Passing (type, 1) or '1type' as a synonym of type is deprecated; in a future version of numpy, it will be understood as (type, (1,)) / '(1,)type'.\n",
      "  _np_quint16 = np.dtype([(\"quint16\", np.uint16, 1)])\n",
      "/usr/local/lib/python3.6/site-packages/tensorflow/python/framework/dtypes.py:520: FutureWarning: Passing (type, 1) or '1type' as a synonym of type is deprecated; in a future version of numpy, it will be understood as (type, (1,)) / '(1,)type'.\n",
      "  _np_qint32 = np.dtype([(\"qint32\", np.int32, 1)])\n",
      "/usr/local/lib/python3.6/site-packages/tensorflow/python/framework/dtypes.py:525: FutureWarning: Passing (type, 1) or '1type' as a synonym of type is deprecated; in a future version of numpy, it will be understood as (type, (1,)) / '(1,)type'.\n",
      "  np_resource = np.dtype([(\"resource\", np.ubyte, 1)])\n",
      "/usr/local/lib/python3.6/site-packages/tensorboard/compat/tensorflow_stub/dtypes.py:541: FutureWarning: Passing (type, 1) or '1type' as a synonym of type is deprecated; in a future version of numpy, it will be understood as (type, (1,)) / '(1,)type'.\n",
      "  _np_qint8 = np.dtype([(\"qint8\", np.int8, 1)])\n",
      "/usr/local/lib/python3.6/site-packages/tensorboard/compat/tensorflow_stub/dtypes.py:542: FutureWarning: Passing (type, 1) or '1type' as a synonym of type is deprecated; in a future version of numpy, it will be understood as (type, (1,)) / '(1,)type'.\n",
      "  _np_quint8 = np.dtype([(\"quint8\", np.uint8, 1)])\n",
      "/usr/local/lib/python3.6/site-packages/tensorboard/compat/tensorflow_stub/dtypes.py:543: FutureWarning: Passing (type, 1) or '1type' as a synonym of type is deprecated; in a future version of numpy, it will be understood as (type, (1,)) / '(1,)type'.\n",
      "  _np_qint16 = np.dtype([(\"qint16\", np.int16, 1)])\n",
      "/usr/local/lib/python3.6/site-packages/tensorboard/compat/tensorflow_stub/dtypes.py:544: FutureWarning: Passing (type, 1) or '1type' as a synonym of type is deprecated; in a future version of numpy, it will be understood as (type, (1,)) / '(1,)type'.\n",
      "  _np_quint16 = np.dtype([(\"quint16\", np.uint16, 1)])\n",
      "/usr/local/lib/python3.6/site-packages/tensorboard/compat/tensorflow_stub/dtypes.py:545: FutureWarning: Passing (type, 1) or '1type' as a synonym of type is deprecated; in a future version of numpy, it will be understood as (type, (1,)) / '(1,)type'.\n",
      "  _np_qint32 = np.dtype([(\"qint32\", np.int32, 1)])\n",
      "/usr/local/lib/python3.6/site-packages/tensorboard/compat/tensorflow_stub/dtypes.py:550: FutureWarning: Passing (type, 1) or '1type' as a synonym of type is deprecated; in a future version of numpy, it will be understood as (type, (1,)) / '(1,)type'.\n",
      "  np_resource = np.dtype([(\"resource\", np.ubyte, 1)])\n",
      "\u001b[38;5;4mℹ Saving to output directory: ../models/spacy_ensamble\u001b[0m\n",
      "\u001b[38;5;4mℹ Using CPU\u001b[0m\n",
      "\u001b[1m\n",
      "=========================== Initializing pipeline ===========================\u001b[0m\n",
      "[2021-10-07 16:28:13,436] [INFO] Set up nlp object from config\n",
      "[2021-10-07 16:28:13,451] [INFO] Pipeline: ['tok2vec', 'textcat']\n",
      "[2021-10-07 16:28:13,457] [INFO] Created vocabulary\n",
      "[2021-10-07 16:28:15,845] [INFO] Added vectors: en_core_web_lg\n",
      "[2021-10-07 16:28:17,243] [INFO] Finished initializing nlp object\n",
      "[2021-10-07 16:28:42,507] [INFO] Initialized pipeline components: ['tok2vec', 'textcat']\n",
      "\u001b[38;5;2m✔ Initialized pipeline\u001b[0m\n",
      "\u001b[1m\n",
      "============================= Training pipeline =============================\u001b[0m\n",
      "\u001b[38;5;4mℹ Pipeline: ['tok2vec', 'textcat']\u001b[0m\n",
      "\u001b[38;5;4mℹ Initial learn rate: 0.001\u001b[0m\n",
      "E    #       LOSS TOK2VEC  LOSS TEXTCAT  CATS_SCORE  SCORE \n",
      "---  ------  ------------  ------------  ----------  ------\n",
      "  0       0          0.00          0.50       33.86    0.34\n",
      "  0     200          4.83         91.77       32.72    0.33\n",
      "  0     400          6.18         85.34       48.63    0.49\n",
      "  0     600          0.79         48.18       46.90    0.47\n",
      "  0     800          1.17         30.37       45.25    0.45\n",
      "  0    1000          1.75         14.52       69.89    0.70\n",
      "  0    1200          1.08          8.87       62.13    0.62\n",
      "  0    1400          1.18          4.78       74.37    0.74\n",
      "  0    1600          0.85          2.30       75.35    0.75\n",
      "  0    1800          0.70          2.16       79.44    0.79\n",
      "  0    2000          0.53          1.81       79.67    0.80\n",
      "  0    2200          0.38          0.41       81.07    0.81\n",
      "  1    2400          0.31          0.22       81.65    0.82\n",
      "  1    2600          0.28          0.22       80.46    0.80\n",
      "  1    2800          0.29          0.21       76.76    0.77\n",
      "  1    3000          0.35          0.21       81.77    0.82\n",
      "  2    3200          0.33          0.22       80.67    0.81\n",
      "  2    3400          0.35          0.18       80.67    0.81\n",
      "  2    3600          0.35          0.20       80.09    0.80\n",
      "  2    3800          0.45          0.26       82.09    0.82\n",
      "  3    4000          0.39          0.17       81.56    0.82\n",
      "  3    4200          0.41          0.17       80.68    0.81\n",
      "  3    4400          0.43          0.18       82.35    0.82\n",
      "  3    4600          0.51          1.36       82.81    0.83\n",
      "  4    4800          0.45          0.16       81.44    0.81\n",
      "  4    5000          0.50          0.14       79.03    0.79\n",
      "  4    5200          0.54          0.19       80.65    0.81\n",
      "  4    5400          0.46          0.16       81.07    0.81\n",
      "  5    5600          0.47          0.13       80.73    0.81\n",
      "  5    5800          0.61          0.16       81.85    0.82\n",
      "  5    6000          0.60          0.16       81.19    0.81\n",
      "  5    6200          0.58          0.15       78.82    0.79\n",
      "\u001b[38;5;2m✔ Saved pipeline to output directory\u001b[0m\n",
      "../models/spacy_ensamble/model-last\n"
     ]
    }
   ],
   "source": [
    "!python3 -m spacy train ../models/config.cfg --paths.train ../data/train.spacy --paths.dev ../data/valid.spacy -o ../models/spacy_ensamble"
   ]
  },
  {
   "cell_type": "code",
   "execution_count": 10,
   "id": "b68be422",
   "metadata": {},
   "outputs": [],
   "source": [
    "nlp = spacy.load('../models/spacy_ensamble/model-best')"
   ]
  },
  {
   "cell_type": "code",
   "execution_count": 11,
   "id": "d8e6de26",
   "metadata": {},
   "outputs": [],
   "source": [
    "docs = nlp.pipe(df_test.sentence.values)"
   ]
  },
  {
   "cell_type": "code",
   "execution_count": 12,
   "id": "46f9c9db",
   "metadata": {},
   "outputs": [],
   "source": [
    "preds = []\n",
    "\n",
    "for doc in docs:\n",
    "    scores = doc.cats\n",
    "    \n",
    "    preds.append(doc.cats['obligation'] > doc.cats['not_obligation'])"
   ]
  },
  {
   "cell_type": "code",
   "execution_count": 13,
   "id": "44a7e951",
   "metadata": {},
   "outputs": [
    {
     "name": "stdout",
     "output_type": "stream",
     "text": [
      "              precision    recall  f1-score   support\n",
      "\n",
      "       False       0.84      0.87      0.85      1411\n",
      "        True       0.88      0.85      0.86      1578\n",
      "\n",
      "    accuracy                           0.86      2989\n",
      "   macro avg       0.86      0.86      0.86      2989\n",
      "weighted avg       0.86      0.86      0.86      2989\n",
      "\n"
     ]
    }
   ],
   "source": [
    "print(classification_report(df_test.is_obligation.values, preds))"
   ]
  },
  {
   "cell_type": "code",
   "execution_count": null,
   "id": "86137048",
   "metadata": {},
   "outputs": [],
   "source": [
    "''' Spacy out of the box configuration 0.8 train/valid split\n",
    "              precision    recall  f1-score   support\n",
    "\n",
    "       False       0.84      0.81      0.83      1411\n",
    "        True       0.84      0.86      0.85      1578\n",
    "\n",
    "    accuracy                           0.84      2989\n",
    "   macro avg       0.84      0.84      0.84      2989\n",
    "weighted avg       0.84      0.84      0.84      2989\n",
    "'''"
   ]
  },
  {
   "cell_type": "code",
   "execution_count": null,
   "id": "2415ca6a",
   "metadata": {},
   "outputs": [],
   "source": []
  }
 ],
 "metadata": {
  "kernelspec": {
   "display_name": "Python 3",
   "language": "python",
   "name": "python3"
  },
  "language_info": {
   "codemirror_mode": {
    "name": "ipython",
    "version": 3
   },
   "file_extension": ".py",
   "mimetype": "text/x-python",
   "name": "python",
   "nbconvert_exporter": "python",
   "pygments_lexer": "ipython3",
   "version": "3.6.14"
  }
 },
 "nbformat": 4,
 "nbformat_minor": 5
}

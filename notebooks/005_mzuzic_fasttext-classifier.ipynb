{
 "cells": [
  {
   "cell_type": "code",
   "execution_count": 1,
   "id": "21d068b2",
   "metadata": {},
   "outputs": [
    {
     "name": "stdout",
     "output_type": "stream",
     "text": [
      "Requirement already satisfied: fasttext in /usr/local/lib/python3.6/site-packages (0.9.2)\n",
      "Requirement already satisfied: setuptools>=0.7.0 in /usr/local/lib/python3.6/site-packages (from fasttext) (57.4.0)\n",
      "Requirement already satisfied: pybind11>=2.2 in /usr/local/lib/python3.6/site-packages (from fasttext) (2.7.1)\n",
      "Requirement already satisfied: numpy in /usr/local/lib/python3.6/site-packages (from fasttext) (1.16.2)\n",
      "\u001b[33mWARNING: Running pip as the 'root' user can result in broken permissions and conflicting behaviour with the system package manager. It is recommended to use a virtual environment instead: https://pip.pypa.io/warnings/venv\u001b[0m\n"
     ]
    }
   ],
   "source": [
    "!pip3 install fasttext"
   ]
  },
  {
   "cell_type": "code",
   "execution_count": 2,
   "id": "8f7da2fc",
   "metadata": {},
   "outputs": [],
   "source": [
    "# https://fasttext.cc/docs/en/references.html#bag-of-tricks-for-efficient-text-classification\n",
    "\n",
    "# https://www.geeksforgeeks.org/fasttext-working-and-implementation/#:~:text=FastText%20is%20very%20fast%20in,classifier%20to%20train%20the%20model."
   ]
  },
  {
   "cell_type": "code",
   "execution_count": 92,
   "id": "dc67c7ec",
   "metadata": {},
   "outputs": [],
   "source": [
    "import fasttext\n",
    "import re\n",
    "\n",
    "import pandas as pd\n",
    "\n",
    "from sklearn.model_selection import train_test_split\n",
    "from gensim.utils import simple_preprocess\n",
    "from gensim.parsing.preprocessing import STOPWORDS\n",
    "\n",
    "from sklearn.metrics import classification_report"
   ]
  },
  {
   "cell_type": "code",
   "execution_count": 182,
   "id": "6a9cf5ac",
   "metadata": {},
   "outputs": [],
   "source": [
    "def clean_sentence(sentence, remove_stop_words=False):\n",
    "    tokens = simple_preprocess(sentence, max_len=30)\n",
    "    \n",
    "    if remove_stop_words:\n",
    "        tokens = [t for t in tokens if t not in STOPWORDS]\n",
    "        \n",
    "    return ' '.join(tokens)"
   ]
  },
  {
   "cell_type": "code",
   "execution_count": 194,
   "id": "cbd2e875",
   "metadata": {},
   "outputs": [],
   "source": [
    "df = pd.read_csv('../data/obligation_extraction_df.csv')\n",
    "df_train, df_test = train_test_split(df, train_size=0.7, random_state=42)"
   ]
  },
  {
   "cell_type": "code",
   "execution_count": 195,
   "id": "438080d3",
   "metadata": {},
   "outputs": [
    {
     "name": "stderr",
     "output_type": "stream",
     "text": [
      "/usr/local/lib/python3.6/site-packages/ipykernel_launcher.py:1: SettingWithCopyWarning: \n",
      "A value is trying to be set on a copy of a slice from a DataFrame.\n",
      "Try using .loc[row_indexer,col_indexer] = value instead\n",
      "\n",
      "See the caveats in the documentation: http://pandas.pydata.org/pandas-docs/stable/indexing.html#indexing-view-versus-copy\n",
      "  \"\"\"Entry point for launching an IPython kernel.\n",
      "/usr/local/lib/python3.6/site-packages/ipykernel_launcher.py:2: SettingWithCopyWarning: \n",
      "A value is trying to be set on a copy of a slice from a DataFrame.\n",
      "Try using .loc[row_indexer,col_indexer] = value instead\n",
      "\n",
      "See the caveats in the documentation: http://pandas.pydata.org/pandas-docs/stable/indexing.html#indexing-view-versus-copy\n",
      "  \n",
      "/usr/local/lib/python3.6/site-packages/ipykernel_launcher.py:4: SettingWithCopyWarning: \n",
      "A value is trying to be set on a copy of a slice from a DataFrame.\n",
      "Try using .loc[row_indexer,col_indexer] = value instead\n",
      "\n",
      "See the caveats in the documentation: http://pandas.pydata.org/pandas-docs/stable/indexing.html#indexing-view-versus-copy\n",
      "  after removing the cwd from sys.path.\n"
     ]
    }
   ],
   "source": [
    "df_train['cleaned_sentence'] = df_train.sentence.apply(lambda x: clean_sentence(x, True))\n",
    "df_train['label'] = df_train.is_obligation.apply(lambda x: f'__label__{str(x)}')\n",
    "\n",
    "df_test['cleaned_sentence'] = df_test.sentence.apply(lambda x: clean_sentence(x, True))"
   ]
  },
  {
   "cell_type": "code",
   "execution_count": 196,
   "id": "2b44cd5d",
   "metadata": {},
   "outputs": [],
   "source": [
    "df_train.to_csv(\n",
    "    '../data/obligations_fasttext_cls.txt',\n",
    "    columns=['cleaned_sentence', 'label'],\n",
    "    sep=' ',\n",
    "    header=False,\n",
    "    index=False,\n",
    "    #escapechar='', quoting=csv.QUOTE_NONE\n",
    ")\n",
    "\n",
    "with open('../data/obligations_fasttext_cls.txt', 'r') as file:\n",
    "    data = file.read()\n",
    "    \n",
    "data = re.sub(\"\\\"\", '', data)\n",
    "\n",
    "with open('../data/obligations_fasttext_cls.txt', 'w') as file:\n",
    "    file.write(data)"
   ]
  },
  {
   "cell_type": "code",
   "execution_count": 200,
   "id": "f6d351bf",
   "metadata": {},
   "outputs": [],
   "source": [
    "model = fasttext.train_supervised('../data/obligations_fasttext_cls.txt')"
   ]
  },
  {
   "cell_type": "code",
   "execution_count": 198,
   "id": "92850fb9",
   "metadata": {},
   "outputs": [],
   "source": [
    "preds, cofidence = model.predict(list(df_test.cleaned_sentence.values))\n",
    "preds_bool = [re.sub('__label__', '', p[0]) == 'True' for p in preds]"
   ]
  },
  {
   "cell_type": "code",
   "execution_count": 130,
   "id": "9f18ea2c",
   "metadata": {},
   "outputs": [],
   "source": []
  },
  {
   "cell_type": "code",
   "execution_count": 113,
   "id": "6a7e7384",
   "metadata": {},
   "outputs": [
    {
     "name": "stdout",
     "output_type": "stream",
     "text": [
      "              precision    recall  f1-score   support\n",
      "\n",
      "       False       0.80      0.82      0.81      2113\n",
      "        True       0.84      0.81      0.82      2371\n",
      "\n",
      "    accuracy                           0.82      4484\n",
      "   macro avg       0.82      0.82      0.82      4484\n",
      "weighted avg       0.82      0.82      0.82      4484\n",
      "\n"
     ]
    }
   ],
   "source": [
    "# with preprocessing\n",
    "\n",
    "print(classification_report(df_test.is_obligation.values, preds_bool))"
   ]
  },
  {
   "cell_type": "code",
   "execution_count": 120,
   "id": "6cbb459d",
   "metadata": {},
   "outputs": [
    {
     "name": "stdout",
     "output_type": "stream",
     "text": [
      "              precision    recall  f1-score   support\n",
      "\n",
      "       False       0.80      0.81      0.81      2113\n",
      "        True       0.83      0.82      0.83      2371\n",
      "\n",
      "    accuracy                           0.82      4484\n",
      "   macro avg       0.82      0.82      0.82      4484\n",
      "weighted avg       0.82      0.82      0.82      4484\n",
      "\n"
     ]
    }
   ],
   "source": [
    "# wo preprocessing\n",
    "\n",
    "print(classification_report(df_test.is_obligation.values, preds_bool))"
   ]
  },
  {
   "cell_type": "code",
   "execution_count": 127,
   "id": "d47083b4",
   "metadata": {},
   "outputs": [
    {
     "name": "stdout",
     "output_type": "stream",
     "text": [
      "              precision    recall  f1-score   support\n",
      "\n",
      "       False       0.79      0.80      0.80      2113\n",
      "        True       0.82      0.81      0.82      2371\n",
      "\n",
      "    accuracy                           0.81      4484\n",
      "   macro avg       0.81      0.81      0.81      4484\n",
      "weighted avg       0.81      0.81      0.81      4484\n",
      "\n"
     ]
    }
   ],
   "source": [
    "# with preprocessing, epochs 25\n",
    "\n",
    "print(classification_report(df_test.is_obligation.values, preds_bool))"
   ]
  },
  {
   "cell_type": "code",
   "execution_count": 164,
   "id": "26fe9cab",
   "metadata": {},
   "outputs": [
    {
     "name": "stdout",
     "output_type": "stream",
     "text": [
      "              precision    recall  f1-score   support\n",
      "\n",
      "       False       0.80      0.85      0.82      2113\n",
      "        True       0.85      0.81      0.83      2371\n",
      "\n",
      "    accuracy                           0.83      4484\n",
      "   macro avg       0.83      0.83      0.83      4484\n",
      "weighted avg       0.83      0.83      0.83      4484\n",
      "\n"
     ]
    }
   ],
   "source": [
    "# with preprocessing, wordNgrams=2\n",
    "\n",
    "print(classification_report(df_test.is_obligation.values, preds_bool))"
   ]
  },
  {
   "cell_type": "code",
   "execution_count": 201,
   "id": "79d52c60",
   "metadata": {},
   "outputs": [
    {
     "name": "stdout",
     "output_type": "stream",
     "text": [
      "              precision    recall  f1-score   support\n",
      "\n",
      "       False       0.81      0.80      0.81      2113\n",
      "        True       0.83      0.83      0.83      2371\n",
      "\n",
      "    accuracy                           0.82      4484\n",
      "   macro avg       0.82      0.82      0.82      4484\n",
      "weighted avg       0.82      0.82      0.82      4484\n",
      "\n"
     ]
    }
   ],
   "source": [
    "# with preprocessing, stop words removed\n",
    "\n",
    "print(classification_report(df_test.is_obligation.values, preds_bool))"
   ]
  },
  {
   "cell_type": "code",
   "execution_count": 199,
   "id": "1968c862",
   "metadata": {},
   "outputs": [
    {
     "name": "stdout",
     "output_type": "stream",
     "text": [
      "              precision    recall  f1-score   support\n",
      "\n",
      "       False       0.81      0.80      0.81      2113\n",
      "        True       0.83      0.83      0.83      2371\n",
      "\n",
      "    accuracy                           0.82      4484\n",
      "   macro avg       0.82      0.82      0.82      4484\n",
      "weighted avg       0.82      0.82      0.82      4484\n",
      "\n"
     ]
    }
   ],
   "source": [
    "# with preprocessing, stop words removed, ngram2\n",
    "\n",
    "print(classification_report(df_test.is_obligation.values, preds_bool))"
   ]
  },
  {
   "cell_type": "code",
   "execution_count": null,
   "id": "0ac864d0",
   "metadata": {},
   "outputs": [],
   "source": []
  },
  {
   "cell_type": "code",
   "execution_count": null,
   "id": "87307058",
   "metadata": {},
   "outputs": [],
   "source": []
  }
 ],
 "metadata": {
  "kernelspec": {
   "display_name": "Python 3",
   "language": "python",
   "name": "python3"
  },
  "language_info": {
   "codemirror_mode": {
    "name": "ipython",
    "version": 3
   },
   "file_extension": ".py",
   "mimetype": "text/x-python",
   "name": "python",
   "nbconvert_exporter": "python",
   "pygments_lexer": "ipython3",
   "version": "3.6.14"
  }
 },
 "nbformat": 4,
 "nbformat_minor": 5
}

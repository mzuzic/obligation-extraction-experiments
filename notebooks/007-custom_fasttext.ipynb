{
 "cells": [
  {
   "cell_type": "code",
   "execution_count": 2,
   "metadata": {},
   "outputs": [
    {
     "name": "stderr",
     "output_type": "stream",
     "text": [
      "/usr/local/lib/python3.6/site-packages/gensim/similarities/__init__.py:15: UserWarning: The gensim.similarities.levenshtein submodule is disabled, because the optional Levenshtein package <https://pypi.org/project/python-Levenshtein/> is unavailable. Install Levenhstein (e.g. `pip install python-Levenshtein`) to suppress this warning.\n",
      "  warnings.warn(msg)\n"
     ]
    }
   ],
   "source": [
    "import spacy\n",
    "import fasttext\n",
    "import re\n",
    "\n",
    "import pandas as pd\n",
    "import numpy as np\n",
    "\n",
    "from sklearn.model_selection import train_test_split, GridSearchCV\n",
    "from sklearn.metrics import classification_report\n",
    "from sklearn.svm import SVC\n",
    "from sklearn.ensemble import RandomForestClassifier\n",
    "\n",
    "from sklearn.feature_extraction.text import TfidfVectorizer, CountVectorizer\n",
    "from sklearn.pipeline import Pipeline\n",
    "from sklearn.naive_bayes import MultinomialNB, ComplementNB\n",
    "from sklearn.ensemble import VotingClassifier\n",
    "\n",
    "from xgboost import XGBClassifier\n",
    "\n",
    "from gensim.models import KeyedVectors"
   ]
  },
  {
   "cell_type": "code",
   "execution_count": null,
   "metadata": {},
   "outputs": [],
   "source": []
  },
  {
   "cell_type": "code",
   "execution_count": 13,
   "metadata": {},
   "outputs": [],
   "source": [
    "def embed_sentences(embed, sentences):\n",
    "    embeddings = embed(sentences)\n",
    "\n",
    "    with tf.Session() as session:\n",
    "        session.run([tf.global_variables_initializer(), tf.tables_initializer()])\n",
    "        sentence_embedings = session.run(embeddings)\n",
    "\n",
    "    return sentence_embedings\n",
    "\n",
    "def get_best_estimator(algorithm, param_grid, x_train, y_train):\n",
    "    grid_search = GridSearchCV(estimator=algorithm, param_grid=param_grid, n_jobs=-1, verbose=2)\n",
    "    grid_search.fit(x_train, y_train)\n",
    "    print(grid_search.best_params_)\n",
    "    \n",
    "    return grid_search.best_estimator_, grid_search\n",
    "\n",
    "def get_classification_report(model, x_test, y_test):\n",
    "    predictions = model.predict(x_test)\n",
    "    \n",
    "    print(classification_report(y_test, predictions))\n",
    "    \n",
    "def get_vectors(vectorizer, text):\n",
    "    documents = vectorizer.pipe(text)\n",
    "    \n",
    "    return np.asarray([doc.vector for doc in documents])\n",
    "\n",
    "def process_text(text):\n",
    "    text = re.sub('(\\.|,|\\?|!|-|;|\\*|\"|:|—|\\(|\\)|%|#|\\$|&|_|\\/|@)', '', text)\n",
    "    text = re.sub('\\d', '', text)\n",
    "    \n",
    "    return text\n",
    "\n",
    "def process_text_ft(text):\n",
    "    text = re.sub('(\\.|,|\\?|!|-|;|\\*|\"|:|—|\\(|\\)|%|#|\\$|&|_|\\/|@)', '', text)\n",
    "    text = re.sub('\\d', '', text)\n",
    "    \n",
    "    return text.lower()"
   ]
  },
  {
   "cell_type": "code",
   "execution_count": 14,
   "metadata": {},
   "outputs": [],
   "source": [
    "df = pd.read_csv('../data/obligation_extraction_df.csv')\n",
    "\n",
    "df_train, df_test = train_test_split(df, train_size=0.8, random_state=42)"
   ]
  },
  {
   "cell_type": "code",
   "execution_count": 4,
   "metadata": {},
   "outputs": [],
   "source": []
  },
  {
   "cell_type": "code",
   "execution_count": 9,
   "metadata": {},
   "outputs": [],
   "source": [
    "from gensim.models import FastText\n",
    "\n",
    "ft = FastText.load('../models/legal_model.cc')"
   ]
  },
  {
   "cell_type": "code",
   "execution_count": 10,
   "metadata": {},
   "outputs": [],
   "source": [
    "x_train_fasttext = np.asarray([ft.wv[sent] for sent in df_train.sentence])\n",
    "x_test_fasttext = np.asarray([ft.wv[sent] for sent in df_test.sentence])"
   ]
  },
  {
   "cell_type": "code",
   "execution_count": 11,
   "metadata": {},
   "outputs": [],
   "source": [
    "# Models trained on the fasttext embeddings\n",
    "\n",
    "svc_fasttext = SVC()\n",
    "xgb_fasttext = XGBClassifier()"
   ]
  },
  {
   "cell_type": "code",
   "execution_count": 15,
   "metadata": {},
   "outputs": [
    {
     "name": "stdout",
     "output_type": "stream",
     "text": [
      "Fitting 5 folds for each of 108 candidates, totalling 540 fits\n",
      "{'C': 0.1, 'degree': 3, 'gamma': 1, 'kernel': 'poly'}\n",
      "              precision    recall  f1-score   support\n",
      "\n",
      "       False       0.79      0.74      0.76      1411\n",
      "        True       0.78      0.82      0.80      1578\n",
      "\n",
      "    accuracy                           0.78      2989\n",
      "   macro avg       0.78      0.78      0.78      2989\n",
      "weighted avg       0.78      0.78      0.78      2989\n",
      "\n"
     ]
    }
   ],
   "source": [
    "# param_grid_svc = {\n",
    "#     'C': [0.001, 0.01, 0.1, 1, 10],\n",
    "#     'gamma' : [0.001, 0.01, 0.1, 1],\n",
    "#     'kernel': ['linear', 'poly', 'rbf', 'sigmoid'],\n",
    "#     'degree': [1, 2, 3, 4, 5]\n",
    "# }\n",
    "\n",
    "param_grid_svc = {\n",
    "    'C': [0.01, 0.1, 1],\n",
    "    'gamma' : [0.01, 0.1, 1],\n",
    "    'kernel': ['linear', 'poly', 'rbf', 'sigmoid'],\n",
    "    'degree': [1, 2, 3]\n",
    "}\n",
    "\n",
    "svc_fasttext, svc_glove_grid = get_best_estimator(\n",
    "    svc_fasttext, \n",
    "    param_grid_svc, \n",
    "    list(x_train_fasttext), \n",
    "    df_train.is_obligation.values\n",
    ")\n",
    "\n",
    "get_classification_report(svc_fasttext, list(x_test_fasttext), df_test.is_obligation.values)"
   ]
  },
  {
   "cell_type": "code",
   "execution_count": 16,
   "metadata": {},
   "outputs": [
    {
     "name": "stdout",
     "output_type": "stream",
     "text": [
      "Fitting 5 folds for each of 30 candidates, totalling 150 fits\n"
     ]
    },
    {
     "name": "stderr",
     "output_type": "stream",
     "text": [
      "/usr/local/lib/python3.6/site-packages/xgboost/sklearn.py:1146: UserWarning: The use of label encoder in XGBClassifier is deprecated and will be removed in a future release. To remove this warning, do the following: 1) Pass option use_label_encoder=False when constructing XGBClassifier object; and 2) Encode your labels (y) as integers starting with 0, i.e. 0, 1, 2, ..., [num_class - 1].\n",
      "  warnings.warn(label_encoder_deprecation_msg, UserWarning)\n"
     ]
    },
    {
     "name": "stdout",
     "output_type": "stream",
     "text": [
      "[17:57:42] WARNING: ../src/learner.cc:573: \n",
      "Parameters: { \"clf__max_depth\", \"clf__n_estimators\" } might not be used.\n",
      "\n",
      "  This may not be accurate due to some parameters are only used in language bindings but\n",
      "  passed down to XGBoost core.  Or some parameters are not used but slip through this\n",
      "  verification. Please open an issue if you find above cases.\n",
      "\n",
      "\n",
      "[17:57:42] WARNING: ../src/learner.cc:1095: Starting in XGBoost 1.3.0, the default evaluation metric used with the objective 'binary:logistic' was changed from 'error' to 'logloss'. Explicitly set eval_metric if you'd like to restore the old behavior.\n",
      "{'clf__max_depth': 2, 'clf__n_estimators': 50}\n",
      "              precision    recall  f1-score   support\n",
      "\n",
      "       False       0.77      0.72      0.74      1411\n",
      "        True       0.76      0.81      0.79      1578\n",
      "\n",
      "    accuracy                           0.77      2989\n",
      "   macro avg       0.77      0.76      0.76      2989\n",
      "weighted avg       0.77      0.77      0.77      2989\n",
      "\n"
     ]
    }
   ],
   "source": [
    "\n",
    "param_grid_xgb = {\n",
    "    'clf__max_depth': [2, 3, 4, 5, 6, 7, 8, 9, 10, 20],\n",
    "    'clf__n_estimators': [50, 100, 200],\n",
    "}\n",
    "\n",
    "xgb_fasttext, param_grid_xgb = get_best_estimator(\n",
    "    xgb_fasttext, \n",
    "    param_grid_xgb, \n",
    "    x_train_fasttext, \n",
    "    df_train.is_obligation.values\n",
    ")\n",
    "\n",
    "get_classification_report(\n",
    "    xgb_fasttext, \n",
    "    x_test_fasttext, \n",
    "    df_test.is_obligation.values\n",
    ")"
   ]
  },
  {
   "cell_type": "code",
   "execution_count": 18,
   "metadata": {},
   "outputs": [],
   "source": [
    "# FastText preprocessing\n",
    "\n",
    "sentences_train = df_train.sentence.apply(lambda x: process_text_ft(x))\n",
    "sentences_test = df_test.sentence.apply(lambda x: process_text_ft(x))\n",
    "\n",
    "x_train_fasttext = np.asarray([ft.wv[sent] for sent in df_train.sentence])\n",
    "x_test_fasttext = np.asarray([ft.wv[sent] for sent in df_test.sentence])\n",
    "\n",
    "del sentences_train, sentences_test"
   ]
  },
  {
   "cell_type": "code",
   "execution_count": 19,
   "metadata": {},
   "outputs": [
    {
     "name": "stdout",
     "output_type": "stream",
     "text": [
      "Fitting 5 folds for each of 108 candidates, totalling 540 fits\n",
      "{'C': 0.1, 'degree': 3, 'gamma': 1, 'kernel': 'poly'}\n",
      "              precision    recall  f1-score   support\n",
      "\n",
      "       False       0.79      0.74      0.76      1411\n",
      "        True       0.78      0.82      0.80      1578\n",
      "\n",
      "    accuracy                           0.78      2989\n",
      "   macro avg       0.78      0.78      0.78      2989\n",
      "weighted avg       0.78      0.78      0.78      2989\n",
      "\n"
     ]
    }
   ],
   "source": [
    "# param_grid_svc = {\n",
    "#     'C': [0.001, 0.01, 0.1, 1, 10],\n",
    "#     'gamma' : [0.001, 0.01, 0.1, 1],\n",
    "#     'kernel': ['linear', 'poly', 'rbf', 'sigmoid'],\n",
    "#     'degree': [1, 2, 3, 4, 5]\n",
    "# }\n",
    "\n",
    "param_grid_svc = {\n",
    "    'C': [0.01, 0.1, 1],\n",
    "    'gamma' : [0.01, 0.1, 1],\n",
    "    'kernel': ['linear', 'poly', 'rbf', 'sigmoid'],\n",
    "    'degree': [1, 2, 3]\n",
    "}\n",
    "\n",
    "svc_fasttext, svc_glove_grid = get_best_estimator(\n",
    "    svc_fasttext, \n",
    "    param_grid_svc, \n",
    "    list(x_train_fasttext), \n",
    "    df_train.is_obligation.values\n",
    ")\n",
    "\n",
    "get_classification_report(svc_fasttext, list(x_test_fasttext), df_test.is_obligation.values)"
   ]
  },
  {
   "cell_type": "code",
   "execution_count": null,
   "metadata": {},
   "outputs": [],
   "source": [
    "\n",
    "param_grid_xgb = {\n",
    "    'clf__max_depth': [2, 3, 4, 5, 6, 7, 8, 9, 10, 20],\n",
    "    'clf__n_estimators': [50, 100, 200],\n",
    "}\n",
    "\n",
    "xgb_fasttext, param_grid_xgb = get_best_estimator(\n",
    "    xgb_fasttext, \n",
    "    param_grid_xgb, \n",
    "    x_train_fasttext, \n",
    "    df_train.is_obligation.values\n",
    ")\n",
    "\n",
    "get_classification_report(\n",
    "    xgb_fasttext, \n",
    "    x_test_fasttext, \n",
    "    df_test.is_obligation.values\n",
    ")"
   ]
  },
  {
   "cell_type": "code",
   "execution_count": null,
   "metadata": {},
   "outputs": [],
   "source": []
  },
  {
   "cell_type": "code",
   "execution_count": null,
   "metadata": {},
   "outputs": [],
   "source": []
  },
  {
   "cell_type": "code",
   "execution_count": null,
   "metadata": {},
   "outputs": [],
   "source": []
  }
 ],
 "metadata": {
  "kernelspec": {
   "display_name": "Python 3",
   "language": "python",
   "name": "python3"
  },
  "language_info": {
   "codemirror_mode": {
    "name": "ipython",
    "version": 3
   },
   "file_extension": ".py",
   "mimetype": "text/x-python",
   "name": "python",
   "nbconvert_exporter": "python",
   "pygments_lexer": "ipython3",
   "version": "3.6.14"
  }
 },
 "nbformat": 4,
 "nbformat_minor": 4
}

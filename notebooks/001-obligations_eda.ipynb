{
 "cells": [
  {
   "cell_type": "code",
   "execution_count": 1,
   "metadata": {},
   "outputs": [],
   "source": [
    "import spacy\n",
    "\n",
    "import pandas as pd\n",
    "import numpy as np\n",
    "import seaborn as sns"
   ]
  },
  {
   "cell_type": "code",
   "execution_count": 23,
   "metadata": {},
   "outputs": [
    {
     "data": {
      "text/html": [
       "<div>\n",
       "<style scoped>\n",
       "    .dataframe tbody tr th:only-of-type {\n",
       "        vertical-align: middle;\n",
       "    }\n",
       "\n",
       "    .dataframe tbody tr th {\n",
       "        vertical-align: top;\n",
       "    }\n",
       "\n",
       "    .dataframe thead th {\n",
       "        text-align: right;\n",
       "    }\n",
       "</style>\n",
       "<table border=\"1\" class=\"dataframe\">\n",
       "  <thead>\n",
       "    <tr style=\"text-align: right;\">\n",
       "      <th></th>\n",
       "      <th>sentence</th>\n",
       "      <th>is_obligation</th>\n",
       "    </tr>\n",
       "  </thead>\n",
       "  <tbody>\n",
       "    <tr>\n",
       "      <th>12040</th>\n",
       "      <td>Master Licensee will take all commercially rea...</td>\n",
       "      <td>True</td>\n",
       "    </tr>\n",
       "    <tr>\n",
       "      <th>12020</th>\n",
       "      <td>Title to the Software and all patents, copyrig...</td>\n",
       "      <td>False</td>\n",
       "    </tr>\n",
       "    <tr>\n",
       "      <th>2467</th>\n",
       "      <td>Except for monetary obligations hereunder, or ...</td>\n",
       "      <td>False</td>\n",
       "    </tr>\n",
       "    <tr>\n",
       "      <th>2461</th>\n",
       "      <td>16.1 Neither party shall be liable for failure...</td>\n",
       "      <td>False</td>\n",
       "    </tr>\n",
       "    <tr>\n",
       "      <th>11365</th>\n",
       "      <td>Company agrees that the Consultant Marks and a...</td>\n",
       "      <td>False</td>\n",
       "    </tr>\n",
       "    <tr>\n",
       "      <th>207</th>\n",
       "      <td>Except for the payment of money, neither party...</td>\n",
       "      <td>False</td>\n",
       "    </tr>\n",
       "    <tr>\n",
       "      <th>9380</th>\n",
       "      <td>(a) The Executive shall not, during the Term o...</td>\n",
       "      <td>False</td>\n",
       "    </tr>\n",
       "    <tr>\n",
       "      <th>2945</th>\n",
       "      <td>10.1 Except for payment due hereunder, neither...</td>\n",
       "      <td>False</td>\n",
       "    </tr>\n",
       "    <tr>\n",
       "      <th>11394</th>\n",
       "      <td>Each Party or their respective licensors and t...</td>\n",
       "      <td>False</td>\n",
       "    </tr>\n",
       "    <tr>\n",
       "      <th>5931</th>\n",
       "      <td>Basic Rent shall be payable to Landlord by sep...</td>\n",
       "      <td>True</td>\n",
       "    </tr>\n",
       "  </tbody>\n",
       "</table>\n",
       "</div>"
      ],
      "text/plain": [
       "                                                sentence  is_obligation\n",
       "12040  Master Licensee will take all commercially rea...           True\n",
       "12020  Title to the Software and all patents, copyrig...          False\n",
       "2467   Except for monetary obligations hereunder, or ...          False\n",
       "2461   16.1 Neither party shall be liable for failure...          False\n",
       "11365  Company agrees that the Consultant Marks and a...          False\n",
       "207    Except for the payment of money, neither party...          False\n",
       "9380   (a) The Executive shall not, during the Term o...          False\n",
       "2945   10.1 Except for payment due hereunder, neither...          False\n",
       "11394  Each Party or their respective licensors and t...          False\n",
       "5931   Basic Rent shall be payable to Landlord by sep...           True"
      ]
     },
     "execution_count": 23,
     "metadata": {},
     "output_type": "execute_result"
    }
   ],
   "source": [
    "df = pd.read_csv('../data/obligation_extraction_df.csv')\n",
    "df.sample(10)"
   ]
  },
  {
   "cell_type": "code",
   "execution_count": 24,
   "metadata": {},
   "outputs": [
    {
     "name": "stdout",
     "output_type": "stream",
     "text": [
      "Dataframe shape: (14945, 2) \n",
      "\n",
      "True     7944\n",
      "False    7001\n",
      "Name: is_obligation, dtype: int64\n"
     ]
    }
   ],
   "source": [
    "print(f'Dataframe shape: {df.shape}', '\\n')\n",
    "print(df.is_obligation.value_counts())"
   ]
  },
  {
   "cell_type": "code",
   "execution_count": 31,
   "metadata": {},
   "outputs": [
    {
     "data": {
      "text/plain": [
       "array(['The affected Party shall use its best efforts to avoid or remove the cause of nonperformance and both Parties shall proceed to perform with dispatch once the causes are removed or cease.',\n",
       "       'The Borrower will use its best efforts to remedy with all reasonable dispatch the Force Majeure preventing the Borrower from performing or observing its agreements under this Loan Agreement; provided, that the settlement of strikes, lockouts and other industrial disturbances shall be entirely within the discretion of the Borrower, and the Borrower shall not be required to make settlement of strikes, lockouts and other industrial disturbances by acceding to the demands of the opposing party or parties.',\n",
       "       'The time for performance of any act delayed by such causes shall be postponed for a period equal to the delay; provided, however, that the party so affected shall give prompt notice to the other party of such delay.',\n",
       "       'The party so affected, however, shall use its best effort to promptly avoid or remove such causes of non performance and to complete performance of the act delayed, whenever such causes are removed.',\n",
       "       'If a Party is prevented from performing this Agreement or performing it on the agreed conditions hereunder as a result of force majeure, including earthquake, typhoon, flood, fire, war, computer virus, design vulnerabilities of tool software, hacker attack on the internet, changes in policies and laws and other events, causes or circumstances that are unforeseeable or whose happenings are unpreventable or unavoidable, such prevented Party shall forthwith notify the other Party by fax of the occurrence thereof and within thirty (30) days thereafter, provide the documentary evidences issued by the notarial organization where the event occurred, explaining the details of the event and the reasons for its failure to perform this Agreement or its need to delay the performance of this Agreement.'],\n",
       "      dtype=object)"
      ]
     },
     "execution_count": 31,
     "metadata": {},
     "output_type": "execute_result"
    }
   ],
   "source": [
    "# Obligation examples\n",
    "\n",
    "df.sentence[df.is_obligation].iloc[0:5].values"
   ]
  },
  {
   "cell_type": "code",
   "execution_count": 32,
   "metadata": {},
   "outputs": [
    {
     "data": {
      "text/plain": [
       "array(['25.0 FORCE MAJEURE: If the Distributor shall be prevented from transmitting and delivering the Video Programs or the Service and its Affiliates shall be prevented from receiving and transmitting the Video Programs by reason of Force Majeure, then such party, as the case may be, shall be excused from its failure to perform its obligations under this License Agreement.',\n",
       "       \"Force Majeure shall mean any act of God, fire, flood, war, public disaster, any governmental or quasi-governmental or regulatory commission or association enactment, decree determination or action, regulation or order; any court imposed injunction; or any other occurrence beyond such party's reasonable control which, despite their reasonable efforts, prevents the delivery and/or exhibition of the Video Program.\",\n",
       "       '15.1 Notwithstanding anything in this Agreement to the contrary, no default, delay or failure to perform on the part of either Party shall be considered a breach of this Agreement if such default, delay or failure to perform is shown to be due entirely to causes beyond the reasonable control of the Party charged with such default, delay or failure, including, without limitation, causes such as strikes, lockouts or other labor disputes, riots, civil disturbances, actions or inactions of governmental authorities or suppliers, epidemics, war, embargoes, severe weather, fire, earthquake, acts of God or the public enemy.',\n",
       "       \"Neither Party shall be responsible for delays or failures in performance resulting from acts or occurrences beyond the reasonable control of such Party, regardless of whether such delays or failures in performance were foreseen or foreseeable as of the date of this Agreement, including, without limitation: fire, explosion, power failure, cable cuts, acts of God, war, revolution, civil commotion, or acts of public enemies; any law, order, regulation, ordinance, or requirement of any government or legal body; or labor unrest, including, without limitation, strikes, slowdowns, picketing, or boycotts; or delays caused by the other Party or by other service or equipment vendors; or any other circumstances beyond the Party's reasonable control.\",\n",
       "       \"In such event, the Party affected shall, upon giving prompt notice to the other Party, be excused from such performance on a day-to-day basis to the extent of such interference (and the other Party shall likewise be excused from performance of its obligations on a day-for-day basis to the extent such Party's obligations relate to the performance so interfered with).\"],\n",
       "      dtype=object)"
      ]
     },
     "execution_count": 32,
     "metadata": {},
     "output_type": "execute_result"
    }
   ],
   "source": [
    "# Non obligtion examples\n",
    "\n",
    "df.sentence[~df.is_obligation].iloc[0:5].values"
   ]
  },
  {
   "cell_type": "code",
   "execution_count": 45,
   "metadata": {},
   "outputs": [],
   "source": [
    "obligations_len = df.sentence[df.is_obligation].apply(lambda sentence: len(sentence)).values\n",
    "non_obligations_len = df.sentence[~df.is_obligation].apply(lambda sentence: len(sentence)).values"
   ]
  },
  {
   "cell_type": "code",
   "execution_count": 49,
   "metadata": {},
   "outputs": [
    {
     "data": {
      "text/plain": [
       "<matplotlib.axes._subplots.AxesSubplot at 0x7f4ecd286ac8>"
      ]
     },
     "execution_count": 49,
     "metadata": {},
     "output_type": "execute_result"
    },
    {
     "data": {
      "image/png": "[encoded data removed]",
      "text/plain": [
       "<Figure size 432x288 with 1 Axes>"
      ]
     },
     "metadata": {
      "needs_background": "light"
     },
     "output_type": "display_data"
    }
   ],
   "source": [
    "sns.distplot(obligations_len)"
   ]
  },
  {
   "cell_type": "code",
   "execution_count": 50,
   "metadata": {},
   "outputs": [
    {
     "data": {
      "text/plain": [
       "<matplotlib.axes._subplots.AxesSubplot at 0x7f4ecd11a668>"
      ]
     },
     "execution_count": 50,
     "metadata": {},
     "output_type": "execute_result"
    },
    {
     "data": {
      "image/png": "[encoded data removed]",
      "text/plain": [
       "<Figure size 432x288 with 1 Axes>"
      ]
     },
     "metadata": {
      "needs_background": "light"
     },
     "output_type": "display_data"
    }
   ],
   "source": [
    "sns.distplot(non_obligations_len)"
   ]
  },
  {
   "cell_type": "code",
   "execution_count": 53,
   "metadata": {},
   "outputs": [
    {
     "data": {
      "text/plain": [
       "<matplotlib.axes._subplots.AxesSubplot at 0x7f4eccac7d30>"
      ]
     },
     "execution_count": 53,
     "metadata": {},
     "output_type": "execute_result"
    },
    {
     "data": {
      "image/png": "[encoded data removed]",
      "text/plain": [
       "<Figure size 432x288 with 1 Axes>"
      ]
     },
     "metadata": {
      "needs_background": "light"
     },
     "output_type": "display_data"
    }
   ],
   "source": [
    "sns.violinplot(obligations_len)"
   ]
  },
  {
   "cell_type": "code",
   "execution_count": 55,
   "metadata": {},
   "outputs": [
    {
     "data": {
      "text/plain": [
       "<matplotlib.axes._subplots.AxesSubplot at 0x7f4eccaa26d8>"
      ]
     },
     "execution_count": 55,
     "metadata": {},
     "output_type": "execute_result"
    },
    {
     "data": {
      "image/png": "[encoded data removed]",
      "text/plain": [
       "<Figure size 432x288 with 1 Axes>"
      ]
     },
     "metadata": {
      "needs_background": "light"
     },
     "output_type": "display_data"
    }
   ],
   "source": [
    "sns.violinplot(non_obligations_len)"
   ]
  },
  {
   "cell_type": "code",
   "execution_count": 4,
   "metadata": {},
   "outputs": [
    {
     "name": "stdout",
     "output_type": "stream",
     "text": [
      "Collecting en_core_web_lg==2.1.0\n",
      "\u001b[?25l  Downloading https://github.com/explosion/spacy-models/releases/download/en_core_web_lg-2.1.0/en_core_web_lg-2.1.0.tar.gz (826.9MB)\n",
      "\u001b[K     |████████████████████████████████| 826.9MB 2.4MB/s eta 0:00:015   |███▏                            | 80.8MB 821kB/s eta 0:15:09     |████▉                           | 124.0MB 1.1MB/s eta 0:11:04     |█████▏                          | 132.4MB 286kB/s eta 0:40:25     |██████▎                         | 163.5MB 760kB/s eta 0:14:33     |██████████                      | 257.0MB 580kB/s eta 0:16:22     |██████████▏                     | 262.1MB 1.1MB/s eta 0:08:58     |███████████                     | 285.3MB 850kB/s eta 0:10:37     |█████████████▌                  | 347.7MB 166kB/s eta 0:47:53     |█████████████▋                  | 350.9MB 579kB/s eta 0:13:42     |██████████████████▉             | 485.4MB 3.9MB/s eta 0:01:27     |████████████████████▎           | 525.0MB 1.1MB/s eta 0:04:43     |█████████████████████▏          | 547.4MB 849kB/s eta 0:05:30     |███████████████████████         | 593.6MB 1.0MB/s eta 0:03:54     |███████████████████████▊        | 611.9MB 786kB/s eta 0:04:34     |███████████████████████▊        | 612.6MB 313kB/s eta 0:11:25     |█████████████████████████▌      | 657.8MB 3.6MB/s eta 0:00:48     |█████████████████████████▉      | 667.8MB 901kB/s eta 0:02:57     |██████████████████████████▋     | 687.7MB 417kB/s eta 0:05:34     |███████████████████████████▋    | 712.8MB 415kB/s eta 0:04:35     |███████████████████████████▉    | 718.9MB 481kB/s eta 0:03:45     |█████████████████████████████▎  | 757.2MB 894kB/s eta 0:01:18     |███████████████████████████████▉| 823.8MB 822kB/s eta 0:00:04\n",
      "\u001b[?25hBuilding wheels for collected packages: en-core-web-lg\n",
      "  Building wheel for en-core-web-lg (setup.py) ... \u001b[?25ldone\n",
      "\u001b[?25h  Created wheel for en-core-web-lg: filename=en_core_web_lg-2.1.0-cp36-none-any.whl size=828255076 sha256=76316920adc3304a97a89e05692d7ccbb7031eee835c9d7e4fece32a33d2e85d\n",
      "  Stored in directory: /tmp/pip-ephem-wheel-cache-cdpawa2a/wheels/b4/d7/70/426d313a459f82ed5e06cc36a50e2bb2f0ec5cb31d8e0bdf09\n",
      "Successfully built en-core-web-lg\n",
      "Installing collected packages: en-core-web-lg\n",
      "Successfully installed en-core-web-lg-2.1.0\n",
      "\u001b[33mWARNING: You are using pip version 19.3; however, version 20.1.1 is available.\n",
      "You should consider upgrading via the 'pip install --upgrade pip' command.\u001b[0m\n",
      "\u001b[38;5;2m✔ Download and installation successful\u001b[0m\n",
      "You can now load the model via spacy.load('en_core_web_lg')\n"
     ]
    }
   ],
   "source": [
    "!python3 -m spacy download en_core_web_lg"
   ]
  },
  {
   "cell_type": "code",
   "execution_count": 3,
   "metadata": {},
   "outputs": [
    {
     "ename": "OSError",
     "evalue": "[E050] Can't find model 'en_core_web_lg'. It doesn't seem to be a shortcut link, a Python package or a valid path to a data directory.",
     "output_type": "error",
     "traceback": [
      "\u001b[0;31m---------------------------------------------------------------------------\u001b[0m",
      "\u001b[0;31mOSError\u001b[0m                                   Traceback (most recent call last)",
      "\u001b[0;32m<ipython-input-3-ceb8f64bba80>\u001b[0m in \u001b[0;36m<module>\u001b[0;34m\u001b[0m\n\u001b[0;32m----> 1\u001b[0;31m \u001b[0mnlp\u001b[0m \u001b[0;34m=\u001b[0m \u001b[0mspacy\u001b[0m\u001b[0;34m.\u001b[0m\u001b[0mload\u001b[0m\u001b[0;34m(\u001b[0m\u001b[0;34m'en_core_web_lg'\u001b[0m\u001b[0;34m)\u001b[0m\u001b[0;34m\u001b[0m\u001b[0;34m\u001b[0m\u001b[0m\n\u001b[0m",
      "\u001b[0;32m/usr/local/lib/python3.6/site-packages/spacy/__init__.py\u001b[0m in \u001b[0;36mload\u001b[0;34m(name, **overrides)\u001b[0m\n\u001b[1;32m     25\u001b[0m     \u001b[0;32mif\u001b[0m \u001b[0mdepr_path\u001b[0m \u001b[0;32mnot\u001b[0m \u001b[0;32min\u001b[0m \u001b[0;34m(\u001b[0m\u001b[0;32mTrue\u001b[0m\u001b[0;34m,\u001b[0m \u001b[0;32mFalse\u001b[0m\u001b[0;34m,\u001b[0m \u001b[0;32mNone\u001b[0m\u001b[0;34m)\u001b[0m\u001b[0;34m:\u001b[0m\u001b[0;34m\u001b[0m\u001b[0;34m\u001b[0m\u001b[0m\n\u001b[1;32m     26\u001b[0m         \u001b[0mdeprecation_warning\u001b[0m\u001b[0;34m(\u001b[0m\u001b[0mWarnings\u001b[0m\u001b[0;34m.\u001b[0m\u001b[0mW001\u001b[0m\u001b[0;34m.\u001b[0m\u001b[0mformat\u001b[0m\u001b[0;34m(\u001b[0m\u001b[0mpath\u001b[0m\u001b[0;34m=\u001b[0m\u001b[0mdepr_path\u001b[0m\u001b[0;34m)\u001b[0m\u001b[0;34m)\u001b[0m\u001b[0;34m\u001b[0m\u001b[0;34m\u001b[0m\u001b[0m\n\u001b[0;32m---> 27\u001b[0;31m     \u001b[0;32mreturn\u001b[0m \u001b[0mutil\u001b[0m\u001b[0;34m.\u001b[0m\u001b[0mload_model\u001b[0m\u001b[0;34m(\u001b[0m\u001b[0mname\u001b[0m\u001b[0;34m,\u001b[0m \u001b[0;34m**\u001b[0m\u001b[0moverrides\u001b[0m\u001b[0;34m)\u001b[0m\u001b[0;34m\u001b[0m\u001b[0;34m\u001b[0m\u001b[0m\n\u001b[0m\u001b[1;32m     28\u001b[0m \u001b[0;34m\u001b[0m\u001b[0m\n\u001b[1;32m     29\u001b[0m \u001b[0;34m\u001b[0m\u001b[0m\n",
      "\u001b[0;32m/usr/local/lib/python3.6/site-packages/spacy/util.py\u001b[0m in \u001b[0;36mload_model\u001b[0;34m(name, **overrides)\u001b[0m\n\u001b[1;32m    137\u001b[0m     \u001b[0;32melif\u001b[0m \u001b[0mhasattr\u001b[0m\u001b[0;34m(\u001b[0m\u001b[0mname\u001b[0m\u001b[0;34m,\u001b[0m \u001b[0;34m\"exists\"\u001b[0m\u001b[0;34m)\u001b[0m\u001b[0;34m:\u001b[0m  \u001b[0;31m# Path or Path-like to model data\u001b[0m\u001b[0;34m\u001b[0m\u001b[0;34m\u001b[0m\u001b[0m\n\u001b[1;32m    138\u001b[0m         \u001b[0;32mreturn\u001b[0m \u001b[0mload_model_from_path\u001b[0m\u001b[0;34m(\u001b[0m\u001b[0mname\u001b[0m\u001b[0;34m,\u001b[0m \u001b[0;34m**\u001b[0m\u001b[0moverrides\u001b[0m\u001b[0;34m)\u001b[0m\u001b[0;34m\u001b[0m\u001b[0;34m\u001b[0m\u001b[0m\n\u001b[0;32m--> 139\u001b[0;31m     \u001b[0;32mraise\u001b[0m \u001b[0mIOError\u001b[0m\u001b[0;34m(\u001b[0m\u001b[0mErrors\u001b[0m\u001b[0;34m.\u001b[0m\u001b[0mE050\u001b[0m\u001b[0;34m.\u001b[0m\u001b[0mformat\u001b[0m\u001b[0;34m(\u001b[0m\u001b[0mname\u001b[0m\u001b[0;34m=\u001b[0m\u001b[0mname\u001b[0m\u001b[0;34m)\u001b[0m\u001b[0;34m)\u001b[0m\u001b[0;34m\u001b[0m\u001b[0;34m\u001b[0m\u001b[0m\n\u001b[0m\u001b[1;32m    140\u001b[0m \u001b[0;34m\u001b[0m\u001b[0m\n\u001b[1;32m    141\u001b[0m \u001b[0;34m\u001b[0m\u001b[0m\n",
      "\u001b[0;31mOSError\u001b[0m: [E050] Can't find model 'en_core_web_lg'. It doesn't seem to be a shortcut link, a Python package or a valid path to a data directory."
     ]
    }
   ],
   "source": [
    "nlp = spacy.load('en_core_web_lg')"
   ]
  },
  {
   "cell_type": "code",
   "execution_count": 73,
   "metadata": {},
   "outputs": [],
   "source": [
    "oov = []"
   ]
  },
  {
   "cell_type": "code",
   "execution_count": 74,
   "metadata": {},
   "outputs": [],
   "source": [
    "docs = nlp.pipe(df.sentence.values)"
   ]
  },
  {
   "cell_type": "code",
   "execution_count": 75,
   "metadata": {},
   "outputs": [],
   "source": [
    "for sent in docs:\n",
    "    for token in sent:\n",
    "        if token.is_oov:\n",
    "            oov.append(token.text)"
   ]
  },
  {
   "cell_type": "code",
   "execution_count": 77,
   "metadata": {},
   "outputs": [],
   "source": [
    "oov = pd.Series(oov)"
   ]
  },
  {
   "cell_type": "code",
   "execution_count": 99,
   "metadata": {},
   "outputs": [
    {
     "name": "stdout",
     "output_type": "stream",
     "text": [
      "1822\n"
     ]
    }
   ],
   "source": [
    "print(len(oov.value_counts()))"
   ]
  },
  {
   "cell_type": "code",
   "execution_count": 79,
   "metadata": {},
   "outputs": [
    {
     "data": {
      "text/plain": [
       "number             231\n",
       "Subtenant          114\n",
       "Sublandlord         81\n",
       "Indemnitee          80\n",
       "agent               73\n",
       "Sublessee           55\n",
       "Sublessor           50\n",
       "Demised             48\n",
       "mark                39\n",
       "InterTrust          29\n",
       "Deliverables        29\n",
       "WCMA                25\n",
       "MIKOHN              22\n",
       "PalmSource          22\n",
       "Sublicensee         22\n",
       "deCODE              21\n",
       "eLoyalty            21\n",
       "MLBFS               20\n",
       "409A                20\n",
       "ZixIt               19\n",
       "sublicensees        17\n",
       "HireRight           17\n",
       "ratable             16\n",
       "N2P                 16\n",
       "VaxGen              16\n",
       "Intelligroup        15\n",
       "Scient              15\n",
       "setoff              15\n",
       "Saxonia             14\n",
       "NextCard            14\n",
       "                  ... \n",
       "insured/             1\n",
       "Subdistributors      1\n",
       "Affymetrix           1\n",
       "Atyrau               1\n",
       "15.4.Any             1\n",
       "2,016,000.00         1\n",
       "6231                 1\n",
       "12,661.67            1\n",
       "IPPO                 1\n",
       "b)(3                 1\n",
       "00/100ths            1\n",
       "Visionics            1\n",
       "www.usps.com         1\n",
       "III.B.               1\n",
       "9(a)(i               1\n",
       "15.1.4               1\n",
       "undertenants         1\n",
       "9,341.66             1\n",
       "VIROLOGIC            1\n",
       "Force(s              1\n",
       "8.4.7                1\n",
       "Iyar                 1\n",
       "02108                1\n",
       "291,667              1\n",
       "9.1.1                1\n",
       "Certificate-         1\n",
       "ARAMARKs             1\n",
       "Predelivery          1\n",
       "iMAP                 1\n",
       "4(a)(ii)(A)(I        1\n",
       "Length: 1822, dtype: int64"
      ]
     },
     "execution_count": 79,
     "metadata": {},
     "output_type": "execute_result"
    }
   ],
   "source": [
    "oov.value_counts()"
   ]
  },
  {
   "cell_type": "code",
   "execution_count": null,
   "metadata": {},
   "outputs": [],
   "source": []
  },
  {
   "cell_type": "code",
   "execution_count": 98,
   "metadata": {},
   "outputs": [
    {
     "data": {
      "text/plain": [
       "obligation(s    11\n",
       "Acquiror        11\n",
       "Primestar       11\n",
       "Biotec          11\n",
       "Netpliance      11\n",
       "Mitotix         11\n",
       "Net2Phone       10\n",
       "D&T             10\n",
       "SAVVIS          10\n",
       "Packeteer       10\n",
       "NO/100          10\n",
       "eRoom           10\n",
       "Biovail          9\n",
       "Acologix         9\n",
       "00/100           9\n",
       "Pledgor          9\n",
       "PRIMEDIA         9\n",
       "LodgeNet         9\n",
       "Lindows.com      9\n",
       "assignee(s       9\n",
       "TracMed          9\n",
       "OpenTV           9\n",
       "3(b              9\n",
       "Finisar          9\n",
       "IPIX             8\n",
       "Onvia            8\n",
       "Mashinsky        8\n",
       "Egenera          8\n",
       "RedRoller        8\n",
       "GlobalCenter     8\n",
       "Discloser        8\n",
       "EpiCept          8\n",
       "LTIP             8\n",
       "Subprocessor     8\n",
       "eDiets           8\n",
       "Pledgee          8\n",
       "Indemnitees      8\n",
       "eVS              8\n",
       "Providian        8\n",
       "10(a             8\n",
       "StoresOnline     8\n",
       "5(b              8\n",
       "WCFC             7\n",
       "Spansion         7\n",
       "2.3(c            7\n",
       "hereinabove      7\n",
       "Product(s        7\n",
       "5(a              7\n",
       "Codexis          7\n",
       "ORBITZ           7\n",
       "dtype: int64"
      ]
     },
     "execution_count": 98,
     "metadata": {},
     "output_type": "execute_result"
    }
   ],
   "source": [
    "oov.value_counts()[50:100]"
   ]
  },
  {
   "cell_type": "code",
   "execution_count": 105,
   "metadata": {},
   "outputs": [],
   "source": [
    "def process_text(text):\n",
    "    text = re.sub('(\\.|,|\\?|!|-|;|\\*|\"|:|—|\\(|\\)|%|#|\\$|&|_|\\/|@)', '', text)\n",
    "    \n",
    "    return text"
   ]
  },
  {
   "cell_type": "code",
   "execution_count": 2,
   "metadata": {},
   "outputs": [
    {
     "ename": "NameError",
     "evalue": "name 'nlp' is not defined",
     "output_type": "error",
     "traceback": [
      "\u001b[0;31m---------------------------------------------------------------------------\u001b[0m",
      "\u001b[0;31mNameError\u001b[0m                                 Traceback (most recent call last)",
      "\u001b[0;32m<ipython-input-2-9dfdf2c1838a>\u001b[0m in \u001b[0;36m<module>\u001b[0;34m\u001b[0m\n\u001b[0;32m----> 1\u001b[0;31m \u001b[0mdir\u001b[0m\u001b[0;34m(\u001b[0m\u001b[0mnlp\u001b[0m\u001b[0;34m)\u001b[0m\u001b[0;34m\u001b[0m\u001b[0;34m\u001b[0m\u001b[0m\n\u001b[0m",
      "\u001b[0;31mNameError\u001b[0m: name 'nlp' is not defined"
     ]
    }
   ],
   "source": [
    "dir(nlp)"
   ]
  },
  {
   "cell_type": "code",
   "execution_count": null,
   "metadata": {},
   "outputs": [],
   "source": []
  }
 ],
 "metadata": {
  "kernelspec": {
   "display_name": "Python 3",
   "language": "python",
   "name": "python3"
  },
  "language_info": {
   "codemirror_mode": {
    "name": "ipython",
    "version": 3
   },
   "file_extension": ".py",
   "mimetype": "text/x-python",
   "name": "python",
   "nbconvert_exporter": "python",
   "pygments_lexer": "ipython3",
   "version": "3.6.9"
  }
 },
 "nbformat": 4,
 "nbformat_minor": 4
}

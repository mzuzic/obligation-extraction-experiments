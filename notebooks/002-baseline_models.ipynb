{
 "cells": [
  {
   "cell_type": "code",
   "execution_count": 4,
   "metadata": {},
   "outputs": [
    {
     "ename": "ModuleNotFoundError",
     "evalue": "No module named 'gensim'",
     "output_type": "error",
     "traceback": [
      "\u001b[0;31m---------------------------------------------------------------------------\u001b[0m",
      "\u001b[0;31mModuleNotFoundError\u001b[0m                       Traceback (most recent call last)",
      "\u001b[0;32m<ipython-input-4-0091d33b620a>\u001b[0m in \u001b[0;36m<module>\u001b[0;34m\u001b[0m\n\u001b[1;32m     18\u001b[0m \u001b[0;32mfrom\u001b[0m \u001b[0mxgboost\u001b[0m \u001b[0;32mimport\u001b[0m \u001b[0mXGBClassifier\u001b[0m\u001b[0;34m\u001b[0m\u001b[0;34m\u001b[0m\u001b[0m\n\u001b[1;32m     19\u001b[0m \u001b[0;34m\u001b[0m\u001b[0m\n\u001b[0;32m---> 20\u001b[0;31m \u001b[0;32mfrom\u001b[0m \u001b[0mgensim\u001b[0m\u001b[0;34m.\u001b[0m\u001b[0mmodels\u001b[0m \u001b[0;32mimport\u001b[0m \u001b[0mKeyedVectors\u001b[0m\u001b[0;34m\u001b[0m\u001b[0;34m\u001b[0m\u001b[0m\n\u001b[0m",
      "\u001b[0;31mModuleNotFoundError\u001b[0m: No module named 'gensim'"
     ]
    }
   ],
   "source": [
    "import spacy\n",
    "import fasttext\n",
    "import re\n",
    "\n",
    "import pandas as pd\n",
    "import numpy as np\n",
    "\n",
    "from sklearn.model_selection import train_test_split, GridSearchCV\n",
    "from sklearn.metrics import classification_report\n",
    "from sklearn.svm import SVC\n",
    "from sklearn.externals import joblib\n",
    "from sklearn.ensemble import RandomForestClassifier\n",
    "from sklearn.feature_extraction.text import TfidfVectorizer, CountVectorizer\n",
    "from sklearn.pipeline import Pipeline\n",
    "from sklearn.naive_bayes import MultinomialNB, ComplementNB\n",
    "from sklearn.ensemble import VotingClassifier\n",
    "\n",
    "from xgboost import XGBClassifier\n",
    "\n",
    "from gensim.models import KeyedVectors"
   ]
  },
  {
   "cell_type": "code",
   "execution_count": null,
   "metadata": {},
   "outputs": [],
   "source": []
  },
  {
   "cell_type": "code",
   "execution_count": null,
   "metadata": {},
   "outputs": [],
   "source": [
    "def embed_sentences(embed, sentences):\n",
    "    embeddings = embed(sentences)\n",
    "\n",
    "    with tf.Session() as session:\n",
    "        session.run([tf.global_variables_initializer(), tf.tables_initializer()])\n",
    "        sentence_embedings = session.run(embeddings)\n",
    "\n",
    "    return sentence_embedings\n",
    "\n",
    "def get_best_estimator(algorithm, param_grid, x_train, y_train):\n",
    "    grid_search = GridSearchCV(estimator=algorithm, param_grid=param_grid, n_jobs=-1, verbose=2)\n",
    "    grid_search.fit(x_train, y_train)\n",
    "    print(grid_search.best_params_)\n",
    "    \n",
    "    return grid_search.best_estimator_, grid_search\n",
    "\n",
    "def get_classification_report(model, x_test, y_test):\n",
    "    predictions = model.predict(x_test)\n",
    "    \n",
    "    print(classification_report(y_test, predictions))\n",
    "    \n",
    "def get_vectors(vectorizer, text):\n",
    "    documents = vectorizer.pipe(text)\n",
    "    \n",
    "    return np.asarray([doc.vector for doc in documents])\n",
    "\n",
    "def process_text(text):\n",
    "    text = re.sub('(\\.|,|\\?|!|-|;|\\*|\"|:|—|\\(|\\)|%|#|\\$|&|_|\\/|@)', '', text)\n",
    "    text = re.sub('\\d', '', text)\n",
    "    \n",
    "    return text\n",
    "\n",
    "def process_text_ft(text):\n",
    "    text = re.sub('(\\.|,|\\?|!|-|;|\\*|\"|:|—|\\(|\\)|%|#|\\$|&|_|\\/|@)', '', text)\n",
    "    text = re.sub('\\d', '', text)\n",
    "    \n",
    "    return text.lower()"
   ]
  },
  {
   "cell_type": "code",
   "execution_count": null,
   "metadata": {},
   "outputs": [],
   "source": []
  },
  {
   "cell_type": "code",
   "execution_count": 5,
   "metadata": {},
   "outputs": [],
   "source": [
    "df = pd.read_csv('../data/obligation_extraction_df.csv')"
   ]
  },
  {
   "cell_type": "code",
   "execution_count": 138,
   "metadata": {},
   "outputs": [
    {
     "name": "stdout",
     "output_type": "stream",
     "text": [
      "Collecting en_core_web_lg==2.1.0\n",
      "\u001b[?25l  Downloading https://github.com/explosion/spacy-models/releases/download/en_core_web_lg-2.1.0/en_core_web_lg-2.1.0.tar.gz (826.9MB)\n",
      "\u001b[K     |████████████████████████████████| 826.9MB 2.4MB/s eta 0:00:01   |▏                               | 3.1MB 1.5MB/s eta 0:09:27     |█                               | 25.9MB 2.4MB/s eta 0:05:37     |█████▌                          | 141.8MB 3.1MB/s eta 0:03:41     |██████████▌                     | 270.4MB 579kB/s eta 0:16:01     |███████████                     | 282.7MB 2.6MB/s eta 0:03:33     |████████████████▎               | 421.0MB 1.8MB/s eta 0:03:46     |█████████████████▋              | 454.2MB 2.3MB/s eta 0:02:44     |█████████████████████████▍      | 656.1MB 2.9MB/s eta 0:01:00\n",
      "\u001b[?25hBuilding wheels for collected packages: en-core-web-lg\n",
      "  Building wheel for en-core-web-lg (setup.py) ... \u001b[?25ldone\n",
      "\u001b[?25h  Created wheel for en-core-web-lg: filename=en_core_web_lg-2.1.0-cp36-none-any.whl size=828255076 sha256=bac221f32fe87b269c728e22dd70bac78ca8e514ba146baa4b58c52dfcac4c97\n",
      "  Stored in directory: /tmp/pip-ephem-wheel-cache-agym22a1/wheels/b4/d7/70/426d313a459f82ed5e06cc36a50e2bb2f0ec5cb31d8e0bdf09\n",
      "Successfully built en-core-web-lg\n",
      "Installing collected packages: en-core-web-lg\n",
      "Successfully installed en-core-web-lg-2.1.0\n",
      "\u001b[33mWARNING: You are using pip version 19.3; however, version 20.1.1 is available.\n",
      "You should consider upgrading via the 'pip install --upgrade pip' command.\u001b[0m\n",
      "\u001b[38;5;2m✔ Download and installation successful\u001b[0m\n",
      "You can now load the model via spacy.load('en_core_web_lg')\n"
     ]
    }
   ],
   "source": [
    "!python3 -m spacy download en_core_web_lg"
   ]
  },
  {
   "cell_type": "code",
   "execution_count": 6,
   "metadata": {},
   "outputs": [
    {
     "name": "stderr",
     "output_type": "stream",
     "text": [
      "/usr/local/lib/python3.6/site-packages/sklearn/model_selection/_split.py:2179: FutureWarning: From version 0.21, test_size will always complement train_size unless both are specified.\n",
      "  FutureWarning)\n"
     ]
    }
   ],
   "source": [
    "df_train, df_test = train_test_split(df, train_size=0.7, random_state=42)"
   ]
  },
  {
   "cell_type": "code",
   "execution_count": 5,
   "metadata": {},
   "outputs": [],
   "source": [
    "nlp = spacy.load('en_core_web_lg')"
   ]
  },
  {
   "cell_type": "code",
   "execution_count": 62,
   "metadata": {},
   "outputs": [],
   "source": [
    "# Models using TfIdf vectorization\n",
    "\n",
    "nb_tfidf = Pipeline([\n",
    "    ('vect', TfidfVectorizer(stop_words='english', preprocessor=process_text)),\n",
    "    ('clf', MultinomialNB())\n",
    "])\n",
    "\n",
    "svm_tfidf = Pipeline([\n",
    "    ('vect', TfidfVectorizer(stop_words='english', preprocessor=process_text)),\n",
    "    ('clf', SVC())\n",
    "])\n",
    "\n",
    "xgb_tfidf = Pipeline([\n",
    "    ('vect', TfidfVectorizer(stop_words='english', preprocessor=process_text)),\n",
    "    ('clf', XGBClassifier())\n",
    "])"
   ]
  },
  {
   "cell_type": "code",
   "execution_count": 21,
   "metadata": {},
   "outputs": [
    {
     "name": "stdout",
     "output_type": "stream",
     "text": [
      "Fitting 3 folds for each of 1 candidates, totalling 3 fits\n"
     ]
    },
    {
     "name": "stderr",
     "output_type": "stream",
     "text": [
      "/usr/local/lib/python3.6/site-packages/sklearn/model_selection/_split.py:2053: FutureWarning: You should specify a value for 'cv' instead of relying on the default value. The default value will change from 3 to 5 in version 0.22.\n",
      "  warnings.warn(CV_WARNING, FutureWarning)\n",
      "[Parallel(n_jobs=-1)]: Using backend LokyBackend with 8 concurrent workers.\n",
      "[Parallel(n_jobs=-1)]: Done   3 out of   3 | elapsed:    1.9s finished\n"
     ]
    },
    {
     "name": "stdout",
     "output_type": "stream",
     "text": [
      "{}\n",
      "              precision    recall  f1-score   support\n",
      "\n",
      "       False       0.80      0.60      0.69      2113\n",
      "        True       0.71      0.86      0.78      2371\n",
      "\n",
      "   micro avg       0.74      0.74      0.74      4484\n",
      "   macro avg       0.75      0.73      0.73      4484\n",
      "weighted avg       0.75      0.74      0.74      4484\n",
      "\n"
     ]
    }
   ],
   "source": [
    "nb_tfidf_, nb_tfidf_grid = get_best_estimator(nb_tfidf, {}, df_train.sentence, df_train.is_obligation)\n",
    "\n",
    "get_classification_report(nb_tfidf_, df_test.sentence, df_test.is_obligation)"
   ]
  },
  {
   "cell_type": "code",
   "execution_count": 65,
   "metadata": {},
   "outputs": [
    {
     "name": "stdout",
     "output_type": "stream",
     "text": [
      "Fitting 3 folds for each of 1 candidates, totalling 3 fits\n"
     ]
    },
    {
     "name": "stderr",
     "output_type": "stream",
     "text": [
      "/usr/local/lib/python3.6/site-packages/sklearn/model_selection/_split.py:2053: FutureWarning: You should specify a value for 'cv' instead of relying on the default value. The default value will change from 3 to 5 in version 0.22.\n",
      "  warnings.warn(CV_WARNING, FutureWarning)\n",
      "[Parallel(n_jobs=-1)]: Using backend LokyBackend with 8 concurrent workers.\n",
      "[Parallel(n_jobs=-1)]: Done   3 out of   3 | elapsed:    2.6s finished\n"
     ]
    },
    {
     "name": "stdout",
     "output_type": "stream",
     "text": [
      "{}\n",
      "              precision    recall  f1-score   support\n",
      "\n",
      "       False       0.80      0.61      0.69      2113\n",
      "        True       0.71      0.87      0.78      2371\n",
      "\n",
      "   micro avg       0.75      0.75      0.75      4484\n",
      "   macro avg       0.76      0.74      0.74      4484\n",
      "weighted avg       0.76      0.75      0.74      4484\n",
      "\n"
     ]
    }
   ],
   "source": [
    "# with preprocessing\n",
    "\n",
    "nb_tfidf_, nb_tfidf_grid = get_best_estimator(nb_tfidf, {}, df_train.sentence, df_train.is_obligation)\n",
    "\n",
    "get_classification_report(nb_tfidf_, df_test.sentence, df_test.is_obligation)"
   ]
  },
  {
   "cell_type": "code",
   "execution_count": 23,
   "metadata": {},
   "outputs": [
    {
     "name": "stderr",
     "output_type": "stream",
     "text": [
      "/usr/local/lib/python3.6/site-packages/sklearn/model_selection/_split.py:2053: FutureWarning: You should specify a value for 'cv' instead of relying on the default value. The default value will change from 3 to 5 in version 0.22.\n",
      "  warnings.warn(CV_WARNING, FutureWarning)\n",
      "[Parallel(n_jobs=-1)]: Using backend LokyBackend with 8 concurrent workers.\n"
     ]
    },
    {
     "name": "stdout",
     "output_type": "stream",
     "text": [
      "Fitting 3 folds for each of 100 candidates, totalling 300 fits\n"
     ]
    },
    {
     "name": "stderr",
     "output_type": "stream",
     "text": [
      "[Parallel(n_jobs=-1)]: Done  25 tasks      | elapsed:  3.5min\n",
      "[Parallel(n_jobs=-1)]: Done 146 tasks      | elapsed: 15.6min\n",
      "[Parallel(n_jobs=-1)]: Done 300 out of 300 | elapsed: 29.2min finished\n"
     ]
    },
    {
     "name": "stdout",
     "output_type": "stream",
     "text": [
      "{'clf__C': 1, 'clf__degree': 1, 'clf__gamma': 1, 'clf__kernel': 'rbf'}\n",
      "              precision    recall  f1-score   support\n",
      "\n",
      "       False       0.81      0.79      0.80      2113\n",
      "        True       0.82      0.84      0.83      2371\n",
      "\n",
      "   micro avg       0.82      0.82      0.82      4484\n",
      "   macro avg       0.82      0.82      0.82      4484\n",
      "weighted avg       0.82      0.82      0.82      4484\n",
      "\n"
     ]
    }
   ],
   "source": [
    "param_grid_svm = {\n",
    "    'clf__C': [0.001, 0.01, 0.1, 1, 10], \n",
    "    'clf__gamma' : [0.001, 0.01, 0.1, 1],\n",
    "    # 'clf__kernel': ['linear', 'poly', 'rbf', 'sigmoid'],\n",
    "    'clf__kernel': ['rbf'],\n",
    "    'clf__degree': [1, 2, 3, 4, 5]\n",
    "}\n",
    "\n",
    "svm_tfidf_, svm_tfidf_grid = get_best_estimator(\n",
    "    svm_tfidf, \n",
    "    param_grid_svm, \n",
    "    df_train.sentence, \n",
    "    df_train.is_obligation\n",
    ")\n",
    "\n",
    "get_classification_report(svm_tfidf_, df_test.sentence, df_test.is_obligation)"
   ]
  },
  {
   "cell_type": "code",
   "execution_count": 66,
   "metadata": {},
   "outputs": [
    {
     "name": "stderr",
     "output_type": "stream",
     "text": [
      "/usr/local/lib/python3.6/site-packages/sklearn/model_selection/_split.py:2053: FutureWarning: You should specify a value for 'cv' instead of relying on the default value. The default value will change from 3 to 5 in version 0.22.\n",
      "  warnings.warn(CV_WARNING, FutureWarning)\n",
      "[Parallel(n_jobs=-1)]: Using backend LokyBackend with 8 concurrent workers.\n"
     ]
    },
    {
     "name": "stdout",
     "output_type": "stream",
     "text": [
      "Fitting 3 folds for each of 48 candidates, totalling 144 fits\n"
     ]
    },
    {
     "name": "stderr",
     "output_type": "stream",
     "text": [
      "[Parallel(n_jobs=-1)]: Done  25 tasks      | elapsed:  3.0min\n",
      "[Parallel(n_jobs=-1)]: Done 144 out of 144 | elapsed: 13.1min finished\n"
     ]
    },
    {
     "name": "stdout",
     "output_type": "stream",
     "text": [
      "{'clf__C': 1, 'clf__degree': 1, 'clf__gamma': 1, 'clf__kernel': 'rbf'}\n",
      "              precision    recall  f1-score   support\n",
      "\n",
      "       False       0.81      0.79      0.80      2113\n",
      "        True       0.82      0.84      0.83      2371\n",
      "\n",
      "   micro avg       0.81      0.81      0.81      4484\n",
      "   macro avg       0.81      0.81      0.81      4484\n",
      "weighted avg       0.81      0.81      0.81      4484\n",
      "\n"
     ]
    }
   ],
   "source": [
    "# with preprocessing\n",
    "\n",
    "param_grid_svm = {\n",
    "    'clf__C': [0.01, 0.1, 1, 10], \n",
    "    'clf__gamma' : [0.01, 0.1, 1],\n",
    "    'clf__kernel': ['rbf'],\n",
    "    'clf__degree': [1, 2, 3, 4]\n",
    "}\n",
    "\n",
    "svm_tfidf_, svm_tfidf_grid = get_best_estimator(\n",
    "    svm_tfidf, \n",
    "    param_grid_svm, \n",
    "    df_train.sentence, \n",
    "    df_train.is_obligation\n",
    ")\n",
    "\n",
    "get_classification_report(svm_tfidf_, df_test.sentence, df_test.is_obligation)"
   ]
  },
  {
   "cell_type": "code",
   "execution_count": 24,
   "metadata": {},
   "outputs": [
    {
     "name": "stdout",
     "output_type": "stream",
     "text": [
      "Fitting 3 folds for each of 30 candidates, totalling 90 fits\n"
     ]
    },
    {
     "name": "stderr",
     "output_type": "stream",
     "text": [
      "/usr/local/lib/python3.6/site-packages/sklearn/model_selection/_split.py:2053: FutureWarning: You should specify a value for 'cv' instead of relying on the default value. The default value will change from 3 to 5 in version 0.22.\n",
      "  warnings.warn(CV_WARNING, FutureWarning)\n",
      "[Parallel(n_jobs=-1)]: Using backend LokyBackend with 8 concurrent workers.\n",
      "[Parallel(n_jobs=-1)]: Done  25 tasks      | elapsed:   25.9s\n",
      "[Parallel(n_jobs=-1)]: Done  90 out of  90 | elapsed:  2.8min finished\n"
     ]
    },
    {
     "name": "stdout",
     "output_type": "stream",
     "text": [
      "{'clf__max_depth': 8, 'clf__n_estimators': 200}\n",
      "              precision    recall  f1-score   support\n",
      "\n",
      "       False       0.81      0.81      0.81      2113\n",
      "        True       0.83      0.83      0.83      2371\n",
      "\n",
      "   micro avg       0.82      0.82      0.82      4484\n",
      "   macro avg       0.82      0.82      0.82      4484\n",
      "weighted avg       0.82      0.82      0.82      4484\n",
      "\n"
     ]
    }
   ],
   "source": [
    "param_grid = {\n",
    "    'clf__max_depth': [2, 3, 4, 5, 6, 7, 8, 9, 10, 20],\n",
    "    'clf__n_estimators': [50, 100, 200],\n",
    "}\n",
    "\n",
    "xgb_tfidf_, xgb_tfidf_grid = get_best_estimator(\n",
    "    xgb_tfidf, \n",
    "    param_grid, \n",
    "    df_train.sentence, \n",
    "    df_train.is_obligation\n",
    ")\n",
    "\n",
    "get_classification_report(xgb_tfidf_, df_test.sentence, df_test.is_obligation)"
   ]
  },
  {
   "cell_type": "code",
   "execution_count": 63,
   "metadata": {},
   "outputs": [
    {
     "name": "stdout",
     "output_type": "stream",
     "text": [
      "Fitting 3 folds for each of 30 candidates, totalling 90 fits\n"
     ]
    },
    {
     "name": "stderr",
     "output_type": "stream",
     "text": [
      "/usr/local/lib/python3.6/site-packages/sklearn/model_selection/_split.py:2053: FutureWarning: You should specify a value for 'cv' instead of relying on the default value. The default value will change from 3 to 5 in version 0.22.\n",
      "  warnings.warn(CV_WARNING, FutureWarning)\n",
      "[Parallel(n_jobs=-1)]: Using backend LokyBackend with 8 concurrent workers.\n",
      "[Parallel(n_jobs=-1)]: Done  25 tasks      | elapsed:   22.6s\n",
      "[Parallel(n_jobs=-1)]: Done  90 out of  90 | elapsed:  2.8min finished\n"
     ]
    },
    {
     "name": "stdout",
     "output_type": "stream",
     "text": [
      "{'clf__max_depth': 10, 'clf__n_estimators': 200}\n",
      "              precision    recall  f1-score   support\n",
      "\n",
      "       False       0.80      0.81      0.80      2113\n",
      "        True       0.83      0.82      0.82      2371\n",
      "\n",
      "   micro avg       0.81      0.81      0.81      4484\n",
      "   macro avg       0.81      0.81      0.81      4484\n",
      "weighted avg       0.81      0.81      0.81      4484\n",
      "\n"
     ]
    }
   ],
   "source": [
    "# with preprocessing\n",
    "param_grid = {\n",
    "    'clf__max_depth': [2, 3, 4, 5, 6, 7, 8, 9, 10, 20],\n",
    "    'clf__n_estimators': [50, 100, 200],\n",
    "}\n",
    "\n",
    "xgb_tfidf_, xgb_tfidf_grid = get_best_estimator(\n",
    "    xgb_tfidf, \n",
    "    param_grid, \n",
    "    df_train.sentence, \n",
    "    df_train.is_obligation\n",
    ")\n",
    "\n",
    "get_classification_report(xgb_tfidf_, df_test.sentence, df_test.is_obligation)"
   ]
  },
  {
   "cell_type": "code",
   "execution_count": 14,
   "metadata": {},
   "outputs": [],
   "source": [
    "x_train_glove = get_vectors(nlp, df_train.sentence.values)\n",
    "x_test_glove= get_vectors(nlp, df_test.sentence.values)"
   ]
  },
  {
   "cell_type": "code",
   "execution_count": 17,
   "metadata": {},
   "outputs": [],
   "source": [
    "# Models trained on glove embeddings\n",
    "\n",
    "nb_glove = MultinomialNB()\n",
    "svc_glove = SVC()\n",
    "xgb_glove = XGBClassifier()"
   ]
  },
  {
   "cell_type": "code",
   "execution_count": 19,
   "metadata": {},
   "outputs": [
    {
     "name": "stdout",
     "output_type": "stream",
     "text": [
      "Fitting 3 folds for each of 108 candidates, totalling 324 fits\n"
     ]
    },
    {
     "name": "stderr",
     "output_type": "stream",
     "text": [
      "/usr/local/lib/python3.6/site-packages/sklearn/model_selection/_split.py:2053: FutureWarning: You should specify a value for 'cv' instead of relying on the default value. The default value will change from 3 to 5 in version 0.22.\n",
      "  warnings.warn(CV_WARNING, FutureWarning)\n",
      "[Parallel(n_jobs=-1)]: Using backend LokyBackend with 8 concurrent workers.\n",
      "[Parallel(n_jobs=-1)]: Done  25 tasks      | elapsed:  7.4min\n",
      "[Parallel(n_jobs=-1)]: Done 146 tasks      | elapsed: 34.4min\n",
      "[Parallel(n_jobs=-1)]: Done 324 out of 324 | elapsed: 70.6min finished\n"
     ]
    },
    {
     "name": "stdout",
     "output_type": "stream",
     "text": [
      "{'C': 1, 'degree': 1, 'gamma': 1, 'kernel': 'rbf'}\n",
      "              precision    recall  f1-score   support\n",
      "\n",
      "       False       0.80      0.79      0.79      2113\n",
      "        True       0.81      0.82      0.82      2371\n",
      "\n",
      "   micro avg       0.80      0.80      0.80      4484\n",
      "   macro avg       0.80      0.80      0.80      4484\n",
      "weighted avg       0.80      0.80      0.80      4484\n",
      "\n"
     ]
    }
   ],
   "source": [
    "# param_grid_svc = {\n",
    "#     'C': [0.001, 0.01, 0.1, 1, 10],\n",
    "#     'gamma' : [0.001, 0.01, 0.1, 1],\n",
    "#     'kernel': ['linear', 'poly', 'rbf', 'sigmoid'],\n",
    "#     'degree': [1, 2, 3, 4, 5]\n",
    "# }\n",
    "\n",
    "param_grid_svc = {\n",
    "    'C': [0.01, 0.1, 1],\n",
    "    'gamma' : [0.01, 0.1, 1],\n",
    "    'kernel': ['linear', 'poly', 'rbf', 'sigmoid'],\n",
    "    'degree': [1, 2, 3]\n",
    "}\n",
    "\n",
    "svc_glove, svc_glove_grid = get_best_estimator(\n",
    "    svc_glove, \n",
    "    param_grid_svc, \n",
    "    x_train_glove, \n",
    "    df_train.is_obligation.values\n",
    ")\n",
    "\n",
    "get_classification_report(svc_glove, x_test_glove, df_test.is_obligation.values)"
   ]
  },
  {
   "cell_type": "code",
   "execution_count": null,
   "metadata": {},
   "outputs": [],
   "source": []
  },
  {
   "cell_type": "code",
   "execution_count": 27,
   "metadata": {},
   "outputs": [
    {
     "name": "stdout",
     "output_type": "stream",
     "text": [
      "              precision    recall  f1-score   support\n",
      "\n",
      "       False       0.77      0.74      0.76      2113\n",
      "        True       0.78      0.80      0.79      2371\n",
      "\n",
      "   micro avg       0.78      0.78      0.78      4484\n",
      "   macro avg       0.78      0.77      0.77      4484\n",
      "weighted avg       0.78      0.78      0.78      4484\n",
      "\n"
     ]
    }
   ],
   "source": [
    "param_grid_xgb = {\n",
    "    'clf__max_depth': [2, 3, 4, 5, 6, 7, 8, 9, 10, 20],\n",
    "    'clf__n_estimators': [50, 100, 200],\n",
    "}\n",
    "\n",
    "xgb_glove, param_grid_xgb = get_best_estimator(\n",
    "    xgb_glove, \n",
    "    param_grid_xgb, \n",
    "    np.array(x_train_glove), \n",
    "    df_train.is_obligation.values\n",
    ")\n",
    "\n",
    "get_classification_report(xgb_glove, np.asarray(x_test_glove), df_test.is_obligation.values)"
   ]
  },
  {
   "cell_type": "code",
   "execution_count": null,
   "metadata": {},
   "outputs": [],
   "source": []
  },
  {
   "cell_type": "code",
   "execution_count": 8,
   "metadata": {},
   "outputs": [],
   "source": [
    "# Models using BoW vectorization\n",
    "\n",
    "nb_bow = Pipeline([\n",
    "    ('vect', CountVectorizer(stop_words='english')),\n",
    "    ('clf', MultinomialNB())\n",
    "])\n",
    "\n",
    "svm_bow = Pipeline([\n",
    "    ('vect', CountVectorizer(stop_words='english')),\n",
    "    ('clf', SVC())\n",
    "])\n",
    "\n",
    "xgb_bow = Pipeline([\n",
    "    ('vect', CountVectorizer(stop_words='english')),\n",
    "    ('clf', XGBClassifier())\n",
    "])"
   ]
  },
  {
   "cell_type": "code",
   "execution_count": 13,
   "metadata": {},
   "outputs": [
    {
     "name": "stdout",
     "output_type": "stream",
     "text": [
      "Fitting 3 folds for each of 1 candidates, totalling 3 fits\n"
     ]
    },
    {
     "name": "stderr",
     "output_type": "stream",
     "text": [
      "/usr/local/lib/python3.6/site-packages/sklearn/model_selection/_split.py:2053: FutureWarning: You should specify a value for 'cv' instead of relying on the default value. The default value will change from 3 to 5 in version 0.22.\n",
      "  warnings.warn(CV_WARNING, FutureWarning)\n",
      "[Parallel(n_jobs=-1)]: Using backend LokyBackend with 8 concurrent workers.\n",
      "[Parallel(n_jobs=-1)]: Done   3 out of   3 | elapsed:    1.9s finished\n"
     ]
    },
    {
     "name": "stdout",
     "output_type": "stream",
     "text": [
      "{}\n",
      "              precision    recall  f1-score   support\n",
      "\n",
      "       False       0.77      0.61      0.68      2113\n",
      "        True       0.71      0.84      0.77      2371\n",
      "\n",
      "   micro avg       0.73      0.73      0.73      4484\n",
      "   macro avg       0.74      0.73      0.73      4484\n",
      "weighted avg       0.74      0.73      0.73      4484\n",
      "\n"
     ]
    }
   ],
   "source": [
    "nb_bow_, nb_bow_grid = get_best_estimator(nb_bow, {}, df_train.sentence, df_train.is_obligation)\n",
    "\n",
    "get_classification_report(nb_bow_, df_test.sentence, df_test.is_obligation)"
   ]
  },
  {
   "cell_type": "code",
   "execution_count": 15,
   "metadata": {},
   "outputs": [
    {
     "name": "stdout",
     "output_type": "stream",
     "text": [
      "Fitting 3 folds for each of 100 candidates, totalling 300 fits\n"
     ]
    },
    {
     "name": "stderr",
     "output_type": "stream",
     "text": [
      "/usr/local/lib/python3.6/site-packages/sklearn/model_selection/_split.py:2053: FutureWarning: You should specify a value for 'cv' instead of relying on the default value. The default value will change from 3 to 5 in version 0.22.\n",
      "  warnings.warn(CV_WARNING, FutureWarning)\n",
      "[Parallel(n_jobs=-1)]: Using backend LokyBackend with 8 concurrent workers.\n",
      "[Parallel(n_jobs=-1)]: Done  25 tasks      | elapsed:  3.1min\n",
      "[Parallel(n_jobs=-1)]: Done 146 tasks      | elapsed: 15.1min\n",
      "[Parallel(n_jobs=-1)]: Done 300 out of 300 | elapsed: 28.9min finished\n"
     ]
    },
    {
     "name": "stdout",
     "output_type": "stream",
     "text": [
      "{'clf__C': 10, 'clf__degree': 1, 'clf__gamma': 0.01, 'clf__kernel': 'rbf'}\n",
      "              precision    recall  f1-score   support\n",
      "\n",
      "       False       0.79      0.80      0.80      2113\n",
      "        True       0.82      0.81      0.81      2371\n",
      "\n",
      "   micro avg       0.81      0.81      0.81      4484\n",
      "   macro avg       0.81      0.81      0.81      4484\n",
      "weighted avg       0.81      0.81      0.81      4484\n",
      "\n"
     ]
    }
   ],
   "source": [
    "param_grid_svm = {\n",
    "    'clf__C': [0.001, 0.01, 0.1, 1, 10], \n",
    "    'clf__gamma' : [0.001, 0.01, 0.1, 1],\n",
    "    # 'clf__kernel': ['linear', 'poly', 'rbf', 'sigmoid'],\n",
    "    'clf__kernel': ['rbf'],\n",
    "    'clf__degree': [1, 2, 3, 4, 5]\n",
    "}\n",
    "\n",
    "svm_bow_, svm_bow_grid = get_best_estimator(\n",
    "    svm_bow, \n",
    "    param_grid_svm, \n",
    "    df_train.sentence, \n",
    "    df_train.is_obligation\n",
    ")\n",
    "\n",
    "get_classification_report(svm_bow_, df_test.sentence, df_test.is_obligation)"
   ]
  },
  {
   "cell_type": "code",
   "execution_count": 16,
   "metadata": {},
   "outputs": [
    {
     "name": "stdout",
     "output_type": "stream",
     "text": [
      "Fitting 3 folds for each of 30 candidates, totalling 90 fits\n"
     ]
    },
    {
     "name": "stderr",
     "output_type": "stream",
     "text": [
      "/usr/local/lib/python3.6/site-packages/sklearn/model_selection/_split.py:2053: FutureWarning: You should specify a value for 'cv' instead of relying on the default value. The default value will change from 3 to 5 in version 0.22.\n",
      "  warnings.warn(CV_WARNING, FutureWarning)\n",
      "[Parallel(n_jobs=-1)]: Using backend LokyBackend with 8 concurrent workers.\n",
      "[Parallel(n_jobs=-1)]: Done  25 tasks      | elapsed:   16.7s\n",
      "[Parallel(n_jobs=-1)]: Done  90 out of  90 | elapsed:  1.6min finished\n"
     ]
    },
    {
     "name": "stdout",
     "output_type": "stream",
     "text": [
      "{'clf__max_depth': 6, 'clf__n_estimators': 100}\n",
      "              precision    recall  f1-score   support\n",
      "\n",
      "       False       0.80      0.82      0.81      2113\n",
      "        True       0.84      0.82      0.83      2371\n",
      "\n",
      "   micro avg       0.82      0.82      0.82      4484\n",
      "   macro avg       0.82      0.82      0.82      4484\n",
      "weighted avg       0.82      0.82      0.82      4484\n",
      "\n"
     ]
    }
   ],
   "source": [
    "param_grid = {\n",
    "    'clf__max_depth': [2, 3, 4, 5, 6, 7, 8, 9, 10, 20],\n",
    "    'clf__n_estimators': [50, 100, 200],\n",
    "}\n",
    "\n",
    "xgb_bow_, xgb_bow_grid = get_best_estimator(\n",
    "    xgb_bow, \n",
    "    param_grid, \n",
    "    df_train.sentence, \n",
    "    df_train.is_obligation\n",
    ")\n",
    "\n",
    "get_classification_report(xgb_bow_, df_test.sentence, df_test.is_obligation)"
   ]
  },
  {
   "cell_type": "code",
   "execution_count": 19,
   "metadata": {},
   "outputs": [
    {
     "data": {
      "text/plain": [
       "['../models/nb_bow.joblib']"
      ]
     },
     "execution_count": 19,
     "metadata": {},
     "output_type": "execute_result"
    }
   ],
   "source": [
    "joblib.dump(xgb_bow_, '../models/xgb_bow.joblib')\n",
    "joblib.dump(svm_bow_, '../models/svm_bow.joblib')\n",
    "joblib.dump(nb_bow_, '../models/nb_bow.joblib')"
   ]
  },
  {
   "cell_type": "code",
   "execution_count": null,
   "metadata": {},
   "outputs": [],
   "source": []
  },
  {
   "cell_type": "code",
   "execution_count": 9,
   "metadata": {},
   "outputs": [
    {
     "data": {
      "text/plain": [
       "'cc.en.300.bin'"
      ]
     },
     "execution_count": 9,
     "metadata": {},
     "output_type": "execute_result"
    }
   ],
   "source": [
    "import fasttext.util\n",
    "\n",
    "fasttext.util.download_model('en', if_exists='ignore')  # English"
   ]
  },
  {
   "cell_type": "code",
   "execution_count": 10,
   "metadata": {},
   "outputs": [
    {
     "name": "stderr",
     "output_type": "stream",
     "text": [
      "Warning : `load_model` does not return WordVectorModel or SupervisedModel any more, but a `FastText` object which is very similar.\n"
     ]
    }
   ],
   "source": [
    "ft = fasttext.load_model('cc.en.300.bin')"
   ]
  },
  {
   "cell_type": "code",
   "execution_count": 10,
   "metadata": {},
   "outputs": [],
   "source": [
    "x_train_fasttext = np.asarray([ft.get_sentence_vector(sent) for sent in df_train.sentence])\n",
    "x_test_fasttext = np.asarray([ft.get_sentence_vector(sent) for sent in df_test.sentence])"
   ]
  },
  {
   "cell_type": "code",
   "execution_count": 12,
   "metadata": {},
   "outputs": [],
   "source": [
    "# Models trained on the fasttext embeddings\n",
    "\n",
    "svc_fasttext = SVC()\n",
    "xgb_fasttext = XGBClassifier()"
   ]
  },
  {
   "cell_type": "code",
   "execution_count": 51,
   "metadata": {},
   "outputs": [
    {
     "name": "stdout",
     "output_type": "stream",
     "text": [
      "              precision    recall  f1-score   support\n",
      "\n",
      "       False       0.78      0.70      0.74      2113\n",
      "        True       0.76      0.83      0.79      2371\n",
      "\n",
      "   micro avg       0.77      0.77      0.77      4484\n",
      "   macro avg       0.77      0.77      0.77      4484\n",
      "weighted avg       0.77      0.77      0.77      4484\n",
      "\n"
     ]
    }
   ],
   "source": [
    "# param_grid_svc = {\n",
    "#     'C': [0.001, 0.01, 0.1, 1, 10],\n",
    "#     'gamma' : [0.001, 0.01, 0.1, 1],\n",
    "#     'kernel': ['linear', 'poly', 'rbf', 'sigmoid'],\n",
    "#     'degree': [1, 2, 3, 4, 5]\n",
    "# }\n",
    "\n",
    "param_grid_svc = {\n",
    "    'C': [0.01, 0.1, 1],\n",
    "    'gamma' : [0.01, 0.1, 1],\n",
    "    'kernel': ['linear', 'poly', 'rbf', 'sigmoid'],\n",
    "    'degree': [1, 2, 3]\n",
    "}\n",
    "\n",
    "svc_fasttext, svc_glove_grid = get_best_estimator(\n",
    "    svc_fasttext, \n",
    "    param_grid_svc, \n",
    "    list(x_train_fasttext), \n",
    "    df_train.is_obligation.values\n",
    ")\n",
    "\n",
    "get_classification_report(svc_fasttext, list(x_test_fasttext), df_test.is_obligation.values)"
   ]
  },
  {
   "cell_type": "code",
   "execution_count": 135,
   "metadata": {},
   "outputs": [
    {
     "name": "stdout",
     "output_type": "stream",
     "text": [
      "Fitting 3 folds for each of 30 candidates, totalling 90 fits\n"
     ]
    },
    {
     "name": "stderr",
     "output_type": "stream",
     "text": [
      "/usr/local/lib/python3.6/site-packages/sklearn/model_selection/_split.py:2053: FutureWarning: You should specify a value for 'cv' instead of relying on the default value. The default value will change from 3 to 5 in version 0.22.\n",
      "  warnings.warn(CV_WARNING, FutureWarning)\n",
      "[Parallel(n_jobs=-1)]: Using backend LokyBackend with 8 concurrent workers.\n",
      "[Parallel(n_jobs=-1)]: Done  25 tasks      | elapsed:  3.9min\n",
      "[Parallel(n_jobs=-1)]: Done  90 out of  90 | elapsed: 11.6min finished\n"
     ]
    },
    {
     "name": "stdout",
     "output_type": "stream",
     "text": [
      "[13:02:29] WARNING: /workspace/src/learner.cc:480: \n",
      "Parameters: { clf__max_depth, clf__n_estimators } might not be used.\n",
      "\n",
      "  This may not be accurate due to some parameters are only used in language bindings but\n",
      "  passed down to XGBoost core.  Or some parameters are not used but slip through this\n",
      "  verification. Please open an issue if you find above cases.\n",
      "\n",
      "\n",
      "{'clf__max_depth': 2, 'clf__n_estimators': 50}\n",
      "              precision    recall  f1-score   support\n",
      "\n",
      "       False       0.78      0.74      0.76      2113\n",
      "        True       0.78      0.81      0.80      2371\n",
      "\n",
      "   micro avg       0.78      0.78      0.78      4484\n",
      "   macro avg       0.78      0.78      0.78      4484\n",
      "weighted avg       0.78      0.78      0.78      4484\n",
      "\n"
     ]
    }
   ],
   "source": [
    "\n",
    "param_grid_xgb = {\n",
    "    'clf__max_depth': [2, 3, 4, 5, 6, 7, 8, 9, 10, 20],\n",
    "    'clf__n_estimators': [50, 100, 200],\n",
    "}\n",
    "\n",
    "xgb_fasttext, param_grid_xgb = get_best_estimator(\n",
    "    xgb_fasttext, \n",
    "    param_grid_xgb, \n",
    "    x_train_fasttext, \n",
    "    df_train.is_obligation.values\n",
    ")\n",
    "\n",
    "get_classification_report(\n",
    "    xgb_fasttext, \n",
    "    x_test_fasttext, \n",
    "    df_test.is_obligation.values\n",
    ")"
   ]
  },
  {
   "cell_type": "code",
   "execution_count": 11,
   "metadata": {},
   "outputs": [],
   "source": [
    "# FastText preprocessing\n",
    "\n",
    "sentences_train = df_train.sentence.apply(lambda x: process_text_ft(x))\n",
    "sentences_test = df_test.sentence.apply(lambda x: process_text_ft(x))\n",
    "\n",
    "x_train_fasttext = np.asarray([ft.get_sentence_vector(sent) for sent in sentences_train])\n",
    "x_test_fasttext = np.asarray([ft.get_sentence_vector(sent) for sent in sentences_test])\n",
    "\n",
    "del sentences_train, sentences_test"
   ]
  },
  {
   "cell_type": "code",
   "execution_count": 13,
   "metadata": {},
   "outputs": [
    {
     "name": "stdout",
     "output_type": "stream",
     "text": [
      "Fitting 3 folds for each of 108 candidates, totalling 324 fits\n"
     ]
    },
    {
     "name": "stderr",
     "output_type": "stream",
     "text": [
      "/usr/local/lib/python3.6/site-packages/sklearn/model_selection/_split.py:2053: FutureWarning: You should specify a value for 'cv' instead of relying on the default value. The default value will change from 3 to 5 in version 0.22.\n",
      "  warnings.warn(CV_WARNING, FutureWarning)\n",
      "[Parallel(n_jobs=-1)]: Using backend LokyBackend with 8 concurrent workers.\n",
      "[Parallel(n_jobs=-1)]: Done  25 tasks      | elapsed:  7.0min\n",
      "[Parallel(n_jobs=-1)]: Done 146 tasks      | elapsed: 33.1min\n",
      "[Parallel(n_jobs=-1)]: Done 324 out of 324 | elapsed: 663.8min finished\n"
     ]
    },
    {
     "name": "stdout",
     "output_type": "stream",
     "text": [
      "{'C': 1, 'degree': 1, 'gamma': 1, 'kernel': 'rbf'}\n",
      "              precision    recall  f1-score   support\n",
      "\n",
      "       False       0.79      0.71      0.75      2113\n",
      "        True       0.76      0.83      0.80      2371\n",
      "\n",
      "   micro avg       0.77      0.77      0.77      4484\n",
      "   macro avg       0.78      0.77      0.77      4484\n",
      "weighted avg       0.78      0.77      0.77      4484\n",
      "\n"
     ]
    }
   ],
   "source": [
    "# param_grid_svc = {\n",
    "#     'C': [0.001, 0.01, 0.1, 1, 10],\n",
    "#     'gamma' : [0.001, 0.01, 0.1, 1],\n",
    "#     'kernel': ['linear', 'poly', 'rbf', 'sigmoid'],\n",
    "#     'degree': [1, 2, 3, 4, 5]\n",
    "# }\n",
    "\n",
    "param_grid_svc = {\n",
    "    'C': [0.01, 0.1, 1],\n",
    "    'gamma' : [0.01, 0.1, 1],\n",
    "    'kernel': ['linear', 'poly', 'rbf', 'sigmoid'],\n",
    "    'degree': [1, 2, 3]\n",
    "}\n",
    "\n",
    "svc_fasttext, svc_glove_grid = get_best_estimator(\n",
    "    svc_fasttext, \n",
    "    param_grid_svc, \n",
    "    list(x_train_fasttext), \n",
    "    df_train.is_obligation.values\n",
    ")\n",
    "\n",
    "get_classification_report(svc_fasttext, list(x_test_fasttext), df_test.is_obligation.values)"
   ]
  },
  {
   "cell_type": "code",
   "execution_count": 15,
   "metadata": {},
   "outputs": [
    {
     "data": {
      "text/plain": [
       "(10461, 300)"
      ]
     },
     "execution_count": 15,
     "metadata": {},
     "output_type": "execute_result"
    }
   ],
   "source": [
    "x_train_glove.shape"
   ]
  },
  {
   "cell_type": "code",
   "execution_count": 17,
   "metadata": {},
   "outputs": [
    {
     "data": {
      "text/plain": [
       "(10461, 300)"
      ]
     },
     "execution_count": 17,
     "metadata": {},
     "output_type": "execute_result"
    }
   ],
   "source": [
    "x_train_fasttext.shape"
   ]
  },
  {
   "cell_type": "code",
   "execution_count": 32,
   "metadata": {},
   "outputs": [],
   "source": [
    "combined_vectors_train = np.concatenate([x_train_glove, x_train_fasttext], axis=1)\n",
    "combined_vectors_test = np.concatenate([x_test_glove, x_test_fasttext], axis=1)"
   ]
  },
  {
   "cell_type": "code",
   "execution_count": 33,
   "metadata": {},
   "outputs": [
    {
     "data": {
      "text/plain": [
       "array([[-0.07845327,  0.205226  , -0.06929687, ...,  0.0495472 ,\n",
       "        -0.02016848, -0.00382634],\n",
       "       [-0.04374111,  0.17809425, -0.09262659, ...,  0.06744081,\n",
       "        -0.00782636,  0.00454679],\n",
       "       [ 0.02362153,  0.0674613 , -0.21361956, ...,  0.05092333,\n",
       "        -0.02880907, -0.00625204],\n",
       "       ...,\n",
       "       [ 0.05727962,  0.01763594, -0.22384964, ...,  0.06275982,\n",
       "        -0.00919158, -0.00963021],\n",
       "       [-0.10408751,  0.13569058, -0.1299177 , ...,  0.05006945,\n",
       "        -0.02868438, -0.01424044],\n",
       "       [-0.0756157 ,  0.14540789, -0.09514034, ...,  0.06228682,\n",
       "        -0.01930556,  0.00314015]], dtype=float32)"
      ]
     },
     "execution_count": 33,
     "metadata": {},
     "output_type": "execute_result"
    }
   ],
   "source": [
    "combined_vectors_train"
   ]
  },
  {
   "cell_type": "code",
   "execution_count": 35,
   "metadata": {},
   "outputs": [],
   "source": [
    "# Meta embeddings\n",
    "\n",
    "svc_meta = SVC()\n",
    "xgb_meta = XGBClassifier()"
   ]
  },
  {
   "cell_type": "code",
   "execution_count": 37,
   "metadata": {},
   "outputs": [
    {
     "name": "stdout",
     "output_type": "stream",
     "text": [
      "Fitting 3 folds for each of 81 candidates, totalling 243 fits\n"
     ]
    },
    {
     "name": "stderr",
     "output_type": "stream",
     "text": [
      "/usr/local/lib/python3.6/site-packages/sklearn/model_selection/_split.py:2053: FutureWarning: You should specify a value for 'cv' instead of relying on the default value. The default value will change from 3 to 5 in version 0.22.\n",
      "  warnings.warn(CV_WARNING, FutureWarning)\n",
      "[Parallel(n_jobs=-1)]: Using backend LokyBackend with 8 concurrent workers.\n",
      "[Parallel(n_jobs=-1)]: Done  25 tasks      | elapsed: 11.1min\n",
      "[Parallel(n_jobs=-1)]: Done 146 tasks      | elapsed: 51.1min\n",
      "[Parallel(n_jobs=-1)]: Done 243 out of 243 | elapsed: 78.9min finished\n"
     ]
    },
    {
     "name": "stdout",
     "output_type": "stream",
     "text": [
      "{'C': 1, 'degree': 1, 'gamma': 1, 'kernel': 'rbf'}\n",
      "              precision    recall  f1-score   support\n",
      "\n",
      "       False       0.80      0.79      0.79      2113\n",
      "        True       0.81      0.82      0.82      2371\n",
      "\n",
      "   micro avg       0.81      0.81      0.81      4484\n",
      "   macro avg       0.81      0.81      0.81      4484\n",
      "weighted avg       0.81      0.81      0.81      4484\n",
      "\n"
     ]
    }
   ],
   "source": [
    "param_grid_svc = {\n",
    "    'C': [0.01, 0.1, 1],\n",
    "    'gamma' : [0.01, 0.1, 1],\n",
    "    'kernel': ['poly', 'rbf', 'sigmoid'],\n",
    "    'degree': [1, 2, 3]\n",
    "}\n",
    "\n",
    "svc_meta_, svc_glove_grid = get_best_estimator(\n",
    "    svc_meta, \n",
    "    param_grid_svc, \n",
    "    combined_vectors_train, \n",
    "    df_train.is_obligation.values\n",
    ")\n",
    "\n",
    "get_classification_report(svc_meta_, combined_vectors_test, df_test.is_obligation.values)"
   ]
  },
  {
   "cell_type": "code",
   "execution_count": 39,
   "metadata": {},
   "outputs": [
    {
     "name": "stdout",
     "output_type": "stream",
     "text": [
      "Fitting 3 folds for each of 30 candidates, totalling 90 fits\n"
     ]
    },
    {
     "name": "stderr",
     "output_type": "stream",
     "text": [
      "/usr/local/lib/python3.6/site-packages/sklearn/model_selection/_split.py:2053: FutureWarning: You should specify a value for 'cv' instead of relying on the default value. The default value will change from 3 to 5 in version 0.22.\n",
      "  warnings.warn(CV_WARNING, FutureWarning)\n",
      "[Parallel(n_jobs=-1)]: Using backend LokyBackend with 8 concurrent workers.\n",
      "[Parallel(n_jobs=-1)]: Done  25 tasks      | elapsed:  7.5min\n",
      "[Parallel(n_jobs=-1)]: Done  90 out of  90 | elapsed: 21.7min finished\n"
     ]
    },
    {
     "name": "stdout",
     "output_type": "stream",
     "text": [
      "[16:33:33] WARNING: /workspace/src/learner.cc:480: \n",
      "Parameters: { clf__max_depth, clf__n_estimators } might not be used.\n",
      "\n",
      "  This may not be accurate due to some parameters are only used in language bindings but\n",
      "  passed down to XGBoost core.  Or some parameters are not used but slip through this\n",
      "  verification. Please open an issue if you find above cases.\n",
      "\n",
      "\n",
      "{'clf__max_depth': 2, 'clf__n_estimators': 50}\n",
      "              precision    recall  f1-score   support\n",
      "\n",
      "       False       0.77      0.75      0.76      2113\n",
      "        True       0.78      0.80      0.79      2371\n",
      "\n",
      "   micro avg       0.78      0.78      0.78      4484\n",
      "   macro avg       0.78      0.78      0.78      4484\n",
      "weighted avg       0.78      0.78      0.78      4484\n",
      "\n"
     ]
    }
   ],
   "source": [
    "param_grid_xgb = {\n",
    "    'clf__max_depth': [2, 3, 4, 5, 6, 7, 8, 9, 10, 20],\n",
    "    'clf__n_estimators': [50, 100, 200],\n",
    "}\n",
    "\n",
    "xgb_combined_, param_grid_xgb = get_best_estimator(\n",
    "    xgb_meta, \n",
    "    param_grid_xgb, \n",
    "    combined_vectors_train, \n",
    "    df_train.is_obligation.values\n",
    ")\n",
    "\n",
    "get_classification_report(\n",
    "    xgb_combined_, \n",
    "    combined_vectors_test, \n",
    "    df_test.is_obligation.values\n",
    ")"
   ]
  },
  {
   "cell_type": "code",
   "execution_count": 47,
   "metadata": {},
   "outputs": [],
   "source": [
    "meta_embeddings_train = x_train_glove + x_train_fasttext / 2\n",
    "meta_embeddings_test = x_test_glove + x_test_fasttext / 2"
   ]
  },
  {
   "cell_type": "code",
   "execution_count": 48,
   "metadata": {},
   "outputs": [
    {
     "name": "stdout",
     "output_type": "stream",
     "text": [
      "Fitting 3 folds for each of 81 candidates, totalling 243 fits\n"
     ]
    },
    {
     "name": "stderr",
     "output_type": "stream",
     "text": [
      "/usr/local/lib/python3.6/site-packages/sklearn/model_selection/_split.py:2053: FutureWarning: You should specify a value for 'cv' instead of relying on the default value. The default value will change from 3 to 5 in version 0.22.\n",
      "  warnings.warn(CV_WARNING, FutureWarning)\n",
      "[Parallel(n_jobs=-1)]: Using backend LokyBackend with 8 concurrent workers.\n",
      "[Parallel(n_jobs=-1)]: Done  25 tasks      | elapsed:  6.0min\n",
      "[Parallel(n_jobs=-1)]: Done 146 tasks      | elapsed: 27.3min\n",
      "[Parallel(n_jobs=-1)]: Done 243 out of 243 | elapsed: 42.5min finished\n"
     ]
    },
    {
     "name": "stdout",
     "output_type": "stream",
     "text": [
      "{'C': 1, 'degree': 1, 'gamma': 1, 'kernel': 'rbf'}\n",
      "              precision    recall  f1-score   support\n",
      "\n",
      "       False       0.80      0.78      0.79      2113\n",
      "        True       0.81      0.82      0.82      2371\n",
      "\n",
      "   micro avg       0.80      0.80      0.80      4484\n",
      "   macro avg       0.80      0.80      0.80      4484\n",
      "weighted avg       0.80      0.80      0.80      4484\n",
      "\n"
     ]
    }
   ],
   "source": [
    "param_grid_svc = {\n",
    "    'C': [0.01, 0.1, 1],\n",
    "    'gamma' : [0.01, 0.1, 1],\n",
    "    'kernel': ['poly', 'rbf', 'sigmoid'],\n",
    "    'degree': [1, 2, 3]\n",
    "}\n",
    "\n",
    "svc_meta_, svc_glove_grid = get_best_estimator(\n",
    "    svc_meta, \n",
    "    param_grid_svc, \n",
    "    meta_embeddings_train, \n",
    "    df_train.is_obligation.values\n",
    ")\n",
    "\n",
    "get_classification_report(svc_meta_, meta_embeddings_test, df_test.is_obligation.values)"
   ]
  },
  {
   "cell_type": "code",
   "execution_count": 49,
   "metadata": {},
   "outputs": [
    {
     "name": "stdout",
     "output_type": "stream",
     "text": [
      "Fitting 3 folds for each of 30 candidates, totalling 90 fits\n"
     ]
    },
    {
     "name": "stderr",
     "output_type": "stream",
     "text": [
      "/usr/local/lib/python3.6/site-packages/sklearn/model_selection/_split.py:2053: FutureWarning: You should specify a value for 'cv' instead of relying on the default value. The default value will change from 3 to 5 in version 0.22.\n",
      "  warnings.warn(CV_WARNING, FutureWarning)\n",
      "[Parallel(n_jobs=-1)]: Using backend LokyBackend with 8 concurrent workers.\n",
      "[Parallel(n_jobs=-1)]: Done  25 tasks      | elapsed:  3.9min\n",
      "[Parallel(n_jobs=-1)]: Done  90 out of  90 | elapsed: 11.3min finished\n"
     ]
    },
    {
     "name": "stdout",
     "output_type": "stream",
     "text": [
      "[18:52:55] WARNING: /workspace/src/learner.cc:480: \n",
      "Parameters: { clf__max_depth, clf__n_estimators } might not be used.\n",
      "\n",
      "  This may not be accurate due to some parameters are only used in language bindings but\n",
      "  passed down to XGBoost core.  Or some parameters are not used but slip through this\n",
      "  verification. Please open an issue if you find above cases.\n",
      "\n",
      "\n",
      "{'clf__max_depth': 2, 'clf__n_estimators': 50}\n",
      "              precision    recall  f1-score   support\n",
      "\n",
      "       False       0.77      0.75      0.76      2113\n",
      "        True       0.78      0.81      0.79      2371\n",
      "\n",
      "   micro avg       0.78      0.78      0.78      4484\n",
      "   macro avg       0.78      0.78      0.78      4484\n",
      "weighted avg       0.78      0.78      0.78      4484\n",
      "\n"
     ]
    }
   ],
   "source": [
    "param_grid_xgb = {\n",
    "    'clf__max_depth': [2, 3, 4, 5, 6, 7, 8, 9, 10, 20],\n",
    "    'clf__n_estimators': [50, 100, 200],\n",
    "}\n",
    "\n",
    "xgb_meta_, param_grid_xgb = get_best_estimator(\n",
    "    xgb_meta, \n",
    "    param_grid_xgb, \n",
    "    meta_embeddings_train, \n",
    "    df_train.is_obligation.values\n",
    ")\n",
    "\n",
    "get_classification_report(\n",
    "    xgb_meta_, \n",
    "    meta_embeddings_test, \n",
    "    df_test.is_obligation.values\n",
    ")"
   ]
  },
  {
   "cell_type": "code",
   "execution_count": 50,
   "metadata": {},
   "outputs": [],
   "source": [
    "import tensorflow_hub as hub\n",
    "import tensorflow as tf\n",
    "\n",
    "embed = hub.Module(\"https://tfhub.dev/google/universal-sentence-encoder-large/3\")\n",
    "\n",
    "def embed_sentences(sentences):\n",
    "    embeddings = embed(sentences)\n",
    "\n",
    "    with tf.Session() as session:\n",
    "        session.run([tf.global_variables_initializer(), tf.tables_initializer()])\n",
    "        sentence_embedings = session.run(embeddings)\n",
    "\n",
    "    return sentence_embedings"
   ]
  },
  {
   "cell_type": "code",
   "execution_count": 52,
   "metadata": {},
   "outputs": [
    {
     "name": "stdout",
     "output_type": "stream",
     "text": [
      "INFO:tensorflow:Saver not created because there are no variables in the graph to restore\n"
     ]
    },
    {
     "name": "stderr",
     "output_type": "stream",
     "text": [
      "INFO:tensorflow:Saver not created because there are no variables in the graph to restore\n"
     ]
    },
    {
     "name": "stdout",
     "output_type": "stream",
     "text": [
      "INFO:tensorflow:Saver not created because there are no variables in the graph to restore\n"
     ]
    },
    {
     "name": "stderr",
     "output_type": "stream",
     "text": [
      "INFO:tensorflow:Saver not created because there are no variables in the graph to restore\n"
     ]
    }
   ],
   "source": [
    "transformer_x_train = embed_sentences(df_train.sentence.values)\n",
    "transformer_x_test = embed_sentences(df_test.sentence.values)"
   ]
  },
  {
   "cell_type": "code",
   "execution_count": 53,
   "metadata": {},
   "outputs": [
    {
     "name": "stdout",
     "output_type": "stream",
     "text": [
      "Fitting 3 folds for each of 81 candidates, totalling 243 fits\n"
     ]
    },
    {
     "name": "stderr",
     "output_type": "stream",
     "text": [
      "/usr/local/lib/python3.6/site-packages/sklearn/model_selection/_split.py:2053: FutureWarning: You should specify a value for 'cv' instead of relying on the default value. The default value will change from 3 to 5 in version 0.22.\n",
      "  warnings.warn(CV_WARNING, FutureWarning)\n",
      "[Parallel(n_jobs=-1)]: Using backend LokyBackend with 8 concurrent workers.\n",
      "[Parallel(n_jobs=-1)]: Done  25 tasks      | elapsed:  9.6min\n",
      "[Parallel(n_jobs=-1)]: Done 146 tasks      | elapsed: 45.9min\n",
      "[Parallel(n_jobs=-1)]: Done 243 out of 243 | elapsed: 70.4min finished\n"
     ]
    },
    {
     "name": "stdout",
     "output_type": "stream",
     "text": [
      "{'C': 1, 'degree': 3, 'gamma': 1, 'kernel': 'poly'}\n",
      "              precision    recall  f1-score   support\n",
      "\n",
      "       False       0.81      0.77      0.79      2113\n",
      "        True       0.80      0.84      0.82      2371\n",
      "\n",
      "   micro avg       0.81      0.81      0.81      4484\n",
      "   macro avg       0.81      0.81      0.81      4484\n",
      "weighted avg       0.81      0.81      0.81      4484\n",
      "\n"
     ]
    }
   ],
   "source": [
    "param_grid_svc = {\n",
    "    'C': [0.01, 0.1, 1],\n",
    "    'gamma' : [0.01, 0.1, 1],\n",
    "    'kernel': ['poly', 'rbf', 'sigmoid'],\n",
    "    'degree': [1, 2, 3]\n",
    "}\n",
    "\n",
    "svc_use_, svc_glove_grid = get_best_estimator(\n",
    "    svc_meta, \n",
    "    param_grid_svc, \n",
    "    transformer_x_train, \n",
    "    df_train.is_obligation.values\n",
    ")\n",
    "\n",
    "get_classification_report(svc_use_, transformer_x_test, df_test.is_obligation.values)"
   ]
  },
  {
   "cell_type": "code",
   "execution_count": 54,
   "metadata": {},
   "outputs": [
    {
     "name": "stdout",
     "output_type": "stream",
     "text": [
      "Fitting 3 folds for each of 30 candidates, totalling 90 fits\n"
     ]
    },
    {
     "name": "stderr",
     "output_type": "stream",
     "text": [
      "/usr/local/lib/python3.6/site-packages/sklearn/model_selection/_split.py:2053: FutureWarning: You should specify a value for 'cv' instead of relying on the default value. The default value will change from 3 to 5 in version 0.22.\n",
      "  warnings.warn(CV_WARNING, FutureWarning)\n",
      "[Parallel(n_jobs=-1)]: Using backend LokyBackend with 8 concurrent workers.\n",
      "[Parallel(n_jobs=-1)]: Done  25 tasks      | elapsed:  6.6min\n",
      "[Parallel(n_jobs=-1)]: Done  90 out of  90 | elapsed: 19.0min finished\n"
     ]
    },
    {
     "name": "stdout",
     "output_type": "stream",
     "text": [
      "[22:10:24] WARNING: /workspace/src/learner.cc:480: \n",
      "Parameters: { clf__max_depth, clf__n_estimators } might not be used.\n",
      "\n",
      "  This may not be accurate due to some parameters are only used in language bindings but\n",
      "  passed down to XGBoost core.  Or some parameters are not used but slip through this\n",
      "  verification. Please open an issue if you find above cases.\n",
      "\n",
      "\n",
      "{'clf__max_depth': 2, 'clf__n_estimators': 50}\n",
      "              precision    recall  f1-score   support\n",
      "\n",
      "       False       0.77      0.75      0.76      2113\n",
      "        True       0.78      0.80      0.79      2371\n",
      "\n",
      "   micro avg       0.78      0.78      0.78      4484\n",
      "   macro avg       0.78      0.78      0.78      4484\n",
      "weighted avg       0.78      0.78      0.78      4484\n",
      "\n"
     ]
    }
   ],
   "source": [
    "param_grid_xgb = {\n",
    "    'clf__max_depth': [2, 3, 4, 5, 6, 7, 8, 9, 10, 20],\n",
    "    'clf__n_estimators': [50, 100, 200],\n",
    "}\n",
    "\n",
    "xgb_meta_, param_grid_xgb = get_best_estimator(\n",
    "    xgb_meta, \n",
    "    param_grid_xgb, \n",
    "    transformer_x_train, \n",
    "    df_train.is_obligation.values\n",
    ")\n",
    "\n",
    "get_classification_report(\n",
    "    xgb_meta_, \n",
    "    transformer_x_test, \n",
    "    df_test.is_obligation.values\n",
    ")"
   ]
  },
  {
   "cell_type": "code",
   "execution_count": null,
   "metadata": {},
   "outputs": [],
   "source": []
  },
  {
   "cell_type": "code",
   "execution_count": null,
   "metadata": {},
   "outputs": [],
   "source": []
  }
 ],
 "metadata": {
  "kernelspec": {
   "display_name": "Python 3",
   "language": "python",
   "name": "python3"
  },
  "language_info": {
   "codemirror_mode": {
    "name": "ipython",
    "version": 3
   },
   "file_extension": ".py",
   "mimetype": "text/x-python",
   "name": "python",
   "nbconvert_exporter": "python",
   "pygments_lexer": "ipython3",
   "version": "3.6.9"
  }
 },
 "nbformat": 4,
 "nbformat_minor": 4
}

{
 "cells": [
  {
   "cell_type": "code",
   "execution_count": 26,
   "id": "a4a4e68b",
   "metadata": {},
   "outputs": [],
   "source": [
    "import torch\n",
    "import re\n",
    "\n",
    "import pandas as pd\n",
    "import numpy as np\n",
    "\n",
    "from datasets import load_metric\n",
    "from sklearn.model_selection import train_test_split\n",
    "from transformers import (\n",
    "    BertTokenizer, \n",
    "    BertForSequenceClassification, \n",
    "    Trainer,\n",
    "    TrainingArguments,\n",
    "    TextClassificationPipeline\n",
    ")\n",
    "\n",
    "from sklearn.metrics import classification_report"
   ]
  },
  {
   "cell_type": "code",
   "execution_count": null,
   "id": "6d07b44f",
   "metadata": {},
   "outputs": [],
   "source": []
  },
  {
   "cell_type": "code",
   "execution_count": 2,
   "id": "0f16fd20",
   "metadata": {},
   "outputs": [],
   "source": [
    "# !pip3 install torch==1.9.1\n",
    "# !pip3 install datasets\n",
    "# !pip3 install transformers==4.11.1"
   ]
  },
  {
   "cell_type": "code",
   "execution_count": 32,
   "id": "4163fd62",
   "metadata": {},
   "outputs": [],
   "source": [
    "def process_text(text):\n",
    "    # TODO what process text method should be used?\n",
    "    text = text.strip()\n",
    "    text = re.sub('\\n', ' ', text)\n",
    "    text = re.sub('\\s+', ' ', text)\n",
    "    \n",
    "    return text.lower()\n",
    "\n",
    "def get_class(label):\n",
    "    label = re.sub('LABEL_', '', label)\n",
    "    \n",
    "    return int(label)"
   ]
  },
  {
   "cell_type": "code",
   "execution_count": 4,
   "id": "344fa0e5",
   "metadata": {},
   "outputs": [],
   "source": [
    "df = pd.read_csv('../data/obligation_extraction_df.csv')\n",
    "df.is_obligation = df.is_obligation.apply(lambda x: 1 if x else 0)\n",
    "df.sentence = df.sentence.apply(lambda x: process_text(x))\n",
    "\n",
    "df_train, df_test = train_test_split(df, train_size=0.8, random_state=42)\n",
    "# TODO try different train/valid splits\n",
    "# df_train, df_valid = train_test_split(df, train_size=0.9, random_state=42)  "
   ]
  },
  {
   "cell_type": "code",
   "execution_count": 5,
   "id": "de866200",
   "metadata": {},
   "outputs": [],
   "source": [
    "train_texts, val_texts, train_labels, val_labels = train_test_split(\n",
    "    df.sentence.values, \n",
    "    df.is_obligation.values, \n",
    "    test_size=.2,\n",
    "    random_state=42\n",
    ")"
   ]
  },
  {
   "cell_type": "code",
   "execution_count": 6,
   "id": "bff62f49",
   "metadata": {
    "scrolled": true
   },
   "outputs": [
    {
     "name": "stderr",
     "output_type": "stream",
     "text": [
      "Some weights of the model checkpoint at nlpaueb/legal-bert-small-uncased were not used when initializing BertForSequenceClassification: ['cls.predictions.decoder.weight', 'cls.predictions.decoder.bias', 'cls.predictions.transform.LayerNorm.bias', 'cls.seq_relationship.bias', 'cls.predictions.transform.dense.weight', 'cls.predictions.bias', 'cls.seq_relationship.weight', 'cls.predictions.transform.dense.bias', 'cls.predictions.transform.LayerNorm.weight']\n",
      "- This IS expected if you are initializing BertForSequenceClassification from the checkpoint of a model trained on another task or with another architecture (e.g. initializing a BertForSequenceClassification model from a BertForPreTraining model).\n",
      "- This IS NOT expected if you are initializing BertForSequenceClassification from the checkpoint of a model that you expect to be exactly identical (initializing a BertForSequenceClassification model from a BertForSequenceClassification model).\n",
      "Some weights of BertForSequenceClassification were not initialized from the model checkpoint at nlpaueb/legal-bert-small-uncased and are newly initialized: ['classifier.weight', 'classifier.bias']\n",
      "You should probably TRAIN this model on a down-stream task to be able to use it for predictions and inference.\n"
     ]
    }
   ],
   "source": [
    "# distilroberta-base\n",
    "\n",
    "model_name = 'nlpaueb/legal-bert-base-uncased'\n",
    "model_name = 'nlpaueb/legal-bert-small-uncased'\n",
    "\n",
    "tokenizer = BertTokenizer.from_pretrained(model_name, model_max_length=512)\n",
    "\n",
    "model = BertForSequenceClassification.from_pretrained(\n",
    "    model_name,\n",
    "    num_labels=2\n",
    ")"
   ]
  },
  {
   "cell_type": "code",
   "execution_count": 7,
   "id": "62dc2314",
   "metadata": {},
   "outputs": [],
   "source": [
    "train_encodings = tokenizer(list(train_texts), truncation=True, padding=True)\n",
    "val_encodings = tokenizer(list(val_texts), truncation=True, padding=True)\n",
    "# test_encodings = tokenizer(list(test_texts), truncation=True, padding=True)"
   ]
  },
  {
   "cell_type": "code",
   "execution_count": 8,
   "id": "b94096ca",
   "metadata": {},
   "outputs": [],
   "source": [
    "class ObligationDataset(torch.utils.data.Dataset):\n",
    "    def __init__(self, encodings, labels):\n",
    "        self.encodings = encodings\n",
    "        self.labels = labels\n",
    "\n",
    "    def __getitem__(self, idx):\n",
    "        item = {key: torch.tensor(val[idx]) for key, val in self.encodings.items()}\n",
    "        item['labels'] = torch.tensor(self.labels[idx])\n",
    "        return item\n",
    "\n",
    "    def __len__(self):\n",
    "        return len(self.labels)\n",
    "\n",
    "train_dataset = ObligationDataset(train_encodings, train_labels)\n",
    "val_dataset = ObligationDataset(val_encodings, val_labels)\n",
    "# test_dataset = ClauseDataset(test_encodings, test_labels)"
   ]
  },
  {
   "cell_type": "code",
   "execution_count": 10,
   "id": "f0db7a36",
   "metadata": {
    "scrolled": true
   },
   "outputs": [
    {
     "data": {
      "application/vnd.jupyter.widget-view+json": {
       "model_id": "8a9fc925e8324923a5b60ebc9854cf74",
       "version_major": 2,
       "version_minor": 0
      },
      "text/plain": [
       "Downloading:   0%|          | 0.00/1.96k [00:00<?, ?B/s]"
      ]
     },
     "metadata": {},
     "output_type": "display_data"
    }
   ],
   "source": [
    "training_args = TrainingArguments(\n",
    "    \"legal_bert_small_smooothing-0\", \n",
    "    evaluation_strategy=\"epoch\",\n",
    "    num_train_epochs=5,\n",
    "    per_device_train_batch_size=16,\n",
    "   #  label_smoothing_factor=0.1\n",
    ")\n",
    "\n",
    "# training_args\n",
    "metric = load_metric(\"f1\", labels=[0, 1])\n",
    "\n",
    "def compute_metrics(eval_pred):\n",
    "    logits, labels = eval_pred\n",
    "    predictions = np.argmax(logits, axis=-1)\n",
    "    return metric.compute(predictions=predictions, references=labels, average='micro')"
   ]
  },
  {
   "cell_type": "code",
   "execution_count": 11,
   "id": "ae224f29",
   "metadata": {},
   "outputs": [],
   "source": [
    "trainer = Trainer(\n",
    "    model=model, \n",
    "    args=training_args,\n",
    "    train_dataset=train_dataset,\n",
    "    eval_dataset=val_dataset,\n",
    "    tokenizer=tokenizer,\n",
    "    compute_metrics=compute_metrics,\n",
    ")"
   ]
  },
  {
   "cell_type": "code",
   "execution_count": 12,
   "id": "cef7c2bd",
   "metadata": {},
   "outputs": [
    {
     "name": "stderr",
     "output_type": "stream",
     "text": [
      "***** Running training *****\n",
      "  Num examples = 11956\n",
      "  Num Epochs = 5\n",
      "  Instantaneous batch size per device = 16\n",
      "  Total train batch size (w. parallel, distributed & accumulation) = 16\n",
      "  Gradient Accumulation steps = 1\n",
      "  Total optimization steps = 3740\n"
     ]
    },
    {
     "data": {
      "text/html": [
       "\n",
       "    <div>\n",
       "      \n",
       "      <progress value='3740' max='3740' style='width:300px; height:20px; vertical-align: middle;'></progress>\n",
       "      [3740/3740 9:55:42, Epoch 5/5]\n",
       "    </div>\n",
       "    <table border=\"1\" class=\"dataframe\">\n",
       "  <thead>\n",
       "    <tr style=\"text-align: left;\">\n",
       "      <th>Epoch</th>\n",
       "      <th>Training Loss</th>\n",
       "      <th>Validation Loss</th>\n",
       "      <th>F1</th>\n",
       "    </tr>\n",
       "  </thead>\n",
       "  <tbody>\n",
       "    <tr>\n",
       "      <td>1</td>\n",
       "      <td>0.387400</td>\n",
       "      <td>0.329380</td>\n",
       "      <td>0.872533</td>\n",
       "    </tr>\n",
       "    <tr>\n",
       "      <td>2</td>\n",
       "      <td>0.300300</td>\n",
       "      <td>0.334195</td>\n",
       "      <td>0.873871</td>\n",
       "    </tr>\n",
       "    <tr>\n",
       "      <td>3</td>\n",
       "      <td>0.184500</td>\n",
       "      <td>0.406370</td>\n",
       "      <td>0.873202</td>\n",
       "    </tr>\n",
       "    <tr>\n",
       "      <td>4</td>\n",
       "      <td>0.155200</td>\n",
       "      <td>0.503237</td>\n",
       "      <td>0.883239</td>\n",
       "    </tr>\n",
       "    <tr>\n",
       "      <td>5</td>\n",
       "      <td>0.096200</td>\n",
       "      <td>0.559396</td>\n",
       "      <td>0.881566</td>\n",
       "    </tr>\n",
       "  </tbody>\n",
       "</table><p>"
      ],
      "text/plain": [
       "<IPython.core.display.HTML object>"
      ]
     },
     "metadata": {},
     "output_type": "display_data"
    },
    {
     "name": "stderr",
     "output_type": "stream",
     "text": [
      "Saving model checkpoint to legal_bert_small_smooothing-0/checkpoint-500\n",
      "Configuration saved in legal_bert_small_smooothing-0/checkpoint-500/config.json\n",
      "Model weights saved in legal_bert_small_smooothing-0/checkpoint-500/pytorch_model.bin\n",
      "tokenizer config file saved in legal_bert_small_smooothing-0/checkpoint-500/tokenizer_config.json\n",
      "Special tokens file saved in legal_bert_small_smooothing-0/checkpoint-500/special_tokens_map.json\n",
      "***** Running Evaluation *****\n",
      "  Num examples = 2989\n",
      "  Batch size = 8\n",
      "Saving model checkpoint to legal_bert_small_smooothing-0/checkpoint-1000\n",
      "Configuration saved in legal_bert_small_smooothing-0/checkpoint-1000/config.json\n",
      "Model weights saved in legal_bert_small_smooothing-0/checkpoint-1000/pytorch_model.bin\n",
      "tokenizer config file saved in legal_bert_small_smooothing-0/checkpoint-1000/tokenizer_config.json\n",
      "Special tokens file saved in legal_bert_small_smooothing-0/checkpoint-1000/special_tokens_map.json\n",
      "***** Running Evaluation *****\n",
      "  Num examples = 2989\n",
      "  Batch size = 8\n",
      "Saving model checkpoint to legal_bert_small_smooothing-0/checkpoint-1500\n",
      "Configuration saved in legal_bert_small_smooothing-0/checkpoint-1500/config.json\n",
      "Model weights saved in legal_bert_small_smooothing-0/checkpoint-1500/pytorch_model.bin\n",
      "tokenizer config file saved in legal_bert_small_smooothing-0/checkpoint-1500/tokenizer_config.json\n",
      "Special tokens file saved in legal_bert_small_smooothing-0/checkpoint-1500/special_tokens_map.json\n",
      "Saving model checkpoint to legal_bert_small_smooothing-0/checkpoint-2000\n",
      "Configuration saved in legal_bert_small_smooothing-0/checkpoint-2000/config.json\n",
      "Model weights saved in legal_bert_small_smooothing-0/checkpoint-2000/pytorch_model.bin\n",
      "tokenizer config file saved in legal_bert_small_smooothing-0/checkpoint-2000/tokenizer_config.json\n",
      "Special tokens file saved in legal_bert_small_smooothing-0/checkpoint-2000/special_tokens_map.json\n",
      "***** Running Evaluation *****\n",
      "  Num examples = 2989\n",
      "  Batch size = 8\n",
      "Saving model checkpoint to legal_bert_small_smooothing-0/checkpoint-2500\n",
      "Configuration saved in legal_bert_small_smooothing-0/checkpoint-2500/config.json\n",
      "Model weights saved in legal_bert_small_smooothing-0/checkpoint-2500/pytorch_model.bin\n",
      "tokenizer config file saved in legal_bert_small_smooothing-0/checkpoint-2500/tokenizer_config.json\n",
      "Special tokens file saved in legal_bert_small_smooothing-0/checkpoint-2500/special_tokens_map.json\n",
      "***** Running Evaluation *****\n",
      "  Num examples = 2989\n",
      "  Batch size = 8\n",
      "Saving model checkpoint to legal_bert_small_smooothing-0/checkpoint-3000\n",
      "Configuration saved in legal_bert_small_smooothing-0/checkpoint-3000/config.json\n",
      "Model weights saved in legal_bert_small_smooothing-0/checkpoint-3000/pytorch_model.bin\n",
      "tokenizer config file saved in legal_bert_small_smooothing-0/checkpoint-3000/tokenizer_config.json\n",
      "Special tokens file saved in legal_bert_small_smooothing-0/checkpoint-3000/special_tokens_map.json\n",
      "Saving model checkpoint to legal_bert_small_smooothing-0/checkpoint-3500\n",
      "Configuration saved in legal_bert_small_smooothing-0/checkpoint-3500/config.json\n",
      "Model weights saved in legal_bert_small_smooothing-0/checkpoint-3500/pytorch_model.bin\n",
      "tokenizer config file saved in legal_bert_small_smooothing-0/checkpoint-3500/tokenizer_config.json\n",
      "Special tokens file saved in legal_bert_small_smooothing-0/checkpoint-3500/special_tokens_map.json\n",
      "***** Running Evaluation *****\n",
      "  Num examples = 2989\n",
      "  Batch size = 8\n",
      "\n",
      "\n",
      "Training completed. Do not forget to share your model on huggingface.co/models =)\n",
      "\n",
      "\n"
     ]
    },
    {
     "data": {
      "text/plain": [
       "TrainOutput(global_step=3740, training_loss=0.2078449794952882, metrics={'train_runtime': 35755.1776, 'train_samples_per_second': 1.672, 'train_steps_per_second': 0.105, 'total_flos': 3522113181081600.0, 'train_loss': 0.2078449794952882, 'epoch': 5.0})"
      ]
     },
     "execution_count": 12,
     "metadata": {},
     "output_type": "execute_result"
    }
   ],
   "source": [
    "trainer.train()"
   ]
  },
  {
   "cell_type": "code",
   "execution_count": 21,
   "id": "e20fc0ac",
   "metadata": {},
   "outputs": [],
   "source": [
    "tokenizer = trainer.tokenizer\n",
    "model = trainer.model\n",
    "model.eval()\n",
    "\n",
    "pipeline = TextClassificationPipeline(\n",
    "    model=model,\n",
    "    tokenizer=tokenizer,\n",
    "    return_all_scores=False,\n",
    "    function_to_apply='softmax',\n",
    "    truncation=True\n",
    ")"
   ]
  },
  {
   "cell_type": "code",
   "execution_count": 25,
   "id": "f4d20be4",
   "metadata": {},
   "outputs": [
    {
     "name": "stderr",
     "output_type": "stream",
     "text": [
      "Disabling tokenizer parallelism, we're using DataLoader multithreading already\n"
     ]
    }
   ],
   "source": [
    "preds = pipeline(list(df_test.sentence.values))"
   ]
  },
  {
   "cell_type": "code",
   "execution_count": 33,
   "id": "7f82025b",
   "metadata": {},
   "outputs": [
    {
     "name": "stdout",
     "output_type": "stream",
     "text": [
      "              precision    recall  f1-score   support\n",
      "\n",
      "           0       0.89      0.85      0.87      1411\n",
      "           1       0.87      0.91      0.89      1578\n",
      "\n",
      "    accuracy                           0.88      2989\n",
      "   macro avg       0.88      0.88      0.88      2989\n",
      "weighted avg       0.88      0.88      0.88      2989\n",
      "\n"
     ]
    }
   ],
   "source": [
    "predicted_values = [get_class(p['label']) for p in preds]\n",
    "print(classification_report(df_test.is_obligation, predicted_values))"
   ]
  }
 ],
 "metadata": {
  "kernelspec": {
   "display_name": "Python 3",
   "language": "python",
   "name": "python3"
  },
  "language_info": {
   "codemirror_mode": {
    "name": "ipython",
    "version": 3
   },
   "file_extension": ".py",
   "mimetype": "text/x-python",
   "name": "python",
   "nbconvert_exporter": "python",
   "pygments_lexer": "ipython3",
   "version": "3.6.14"
  }
 },
 "nbformat": 4,
 "nbformat_minor": 5
}
